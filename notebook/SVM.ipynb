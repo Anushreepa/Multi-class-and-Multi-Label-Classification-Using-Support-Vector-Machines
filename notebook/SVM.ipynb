{
  "cells": [
    {
      "cell_type": "markdown",
      "metadata": {
        "id": "aifb002_m4DH"
      },
      "source": [
        "## 1. Multi-class and Multi-Label Classification Using Support Vector Machines"
      ]
    },
    {
      "cell_type": "markdown",
      "metadata": {
        "id": "3b8WYzROm4DH"
      },
      "source": [
        "Import packages"
      ]
    },
    {
      "cell_type": "code",
      "execution_count": null,
      "metadata": {
        "id": "f2YCvY5Nm4DH"
      },
      "outputs": [],
      "source": [
        "import numpy as np\n",
        "import pandas as pd\n",
        "from sklearn.pipeline import *\n",
        "from sklearn.preprocessing import *\n",
        "from sklearn.svm import *\n",
        "from sklearn.model_selection import *\n",
        "from sklearn.decomposition import *\n",
        "from sklearn.linear_model import *\n",
        "from sklearn.pipeline import *\n",
        "from sklearn.metrics import *\n",
        "from sklearn.pipeline import Pipeline\n",
        "from imblearn.pipeline import Pipeline as imbpipe\n",
        "from imblearn.over_sampling import SMOTE\n",
        "from sklearn.cluster import KMeans\n",
        "from sklearn.metrics import silhouette_score"
      ]
    },
    {
      "cell_type": "markdown",
      "metadata": {
        "id": "XajWoGfWm4DI"
      },
      "source": [
        "### (a) Download the Anuran Calls (MFCCs) Data Set"
      ]
    },
    {
      "cell_type": "code",
      "execution_count": null,
      "metadata": {
        "id": "DUh-Gmk_m4DJ"
      },
      "outputs": [],
      "source": [
        "df = pd.read_csv('../data/Anuran Calls (MFCCs)/Frogs_MFCCs.csv')"
      ]
    },
    {
      "cell_type": "code",
      "execution_count": null,
      "metadata": {
        "id": "mLh2dXlam4DJ",
        "outputId": "0becb872-441a-4a3f-ea7f-5f96360b3481"
      },
      "outputs": [
        {
          "data": {
            "text/html": [
              "<div>\n",
              "<style scoped>\n",
              "    .dataframe tbody tr th:only-of-type {\n",
              "        vertical-align: middle;\n",
              "    }\n",
              "\n",
              "    .dataframe tbody tr th {\n",
              "        vertical-align: top;\n",
              "    }\n",
              "\n",
              "    .dataframe thead th {\n",
              "        text-align: right;\n",
              "    }\n",
              "</style>\n",
              "<table border=\"1\" class=\"dataframe\">\n",
              "  <thead>\n",
              "    <tr style=\"text-align: right;\">\n",
              "      <th></th>\n",
              "      <th>MFCCs_ 1</th>\n",
              "      <th>MFCCs_ 2</th>\n",
              "      <th>MFCCs_ 3</th>\n",
              "      <th>MFCCs_ 4</th>\n",
              "      <th>MFCCs_ 5</th>\n",
              "      <th>MFCCs_ 6</th>\n",
              "      <th>MFCCs_ 7</th>\n",
              "      <th>MFCCs_ 8</th>\n",
              "      <th>MFCCs_ 9</th>\n",
              "      <th>MFCCs_10</th>\n",
              "      <th>...</th>\n",
              "      <th>MFCCs_17</th>\n",
              "      <th>MFCCs_18</th>\n",
              "      <th>MFCCs_19</th>\n",
              "      <th>MFCCs_20</th>\n",
              "      <th>MFCCs_21</th>\n",
              "      <th>MFCCs_22</th>\n",
              "      <th>Family</th>\n",
              "      <th>Genus</th>\n",
              "      <th>Species</th>\n",
              "      <th>RecordID</th>\n",
              "    </tr>\n",
              "  </thead>\n",
              "  <tbody>\n",
              "    <tr>\n",
              "      <th>0</th>\n",
              "      <td>1.0</td>\n",
              "      <td>0.152936</td>\n",
              "      <td>-0.105586</td>\n",
              "      <td>0.200722</td>\n",
              "      <td>0.317201</td>\n",
              "      <td>0.260764</td>\n",
              "      <td>0.100945</td>\n",
              "      <td>-0.150063</td>\n",
              "      <td>-0.171128</td>\n",
              "      <td>0.124676</td>\n",
              "      <td>...</td>\n",
              "      <td>-0.108351</td>\n",
              "      <td>-0.077623</td>\n",
              "      <td>-0.009568</td>\n",
              "      <td>0.057684</td>\n",
              "      <td>0.118680</td>\n",
              "      <td>0.014038</td>\n",
              "      <td>Leptodactylidae</td>\n",
              "      <td>Adenomera</td>\n",
              "      <td>AdenomeraAndre</td>\n",
              "      <td>1</td>\n",
              "    </tr>\n",
              "    <tr>\n",
              "      <th>1</th>\n",
              "      <td>1.0</td>\n",
              "      <td>0.171534</td>\n",
              "      <td>-0.098975</td>\n",
              "      <td>0.268425</td>\n",
              "      <td>0.338672</td>\n",
              "      <td>0.268353</td>\n",
              "      <td>0.060835</td>\n",
              "      <td>-0.222475</td>\n",
              "      <td>-0.207693</td>\n",
              "      <td>0.170883</td>\n",
              "      <td>...</td>\n",
              "      <td>-0.090974</td>\n",
              "      <td>-0.056510</td>\n",
              "      <td>-0.035303</td>\n",
              "      <td>0.020140</td>\n",
              "      <td>0.082263</td>\n",
              "      <td>0.029056</td>\n",
              "      <td>Leptodactylidae</td>\n",
              "      <td>Adenomera</td>\n",
              "      <td>AdenomeraAndre</td>\n",
              "      <td>1</td>\n",
              "    </tr>\n",
              "    <tr>\n",
              "      <th>2</th>\n",
              "      <td>1.0</td>\n",
              "      <td>0.152317</td>\n",
              "      <td>-0.082973</td>\n",
              "      <td>0.287128</td>\n",
              "      <td>0.276014</td>\n",
              "      <td>0.189867</td>\n",
              "      <td>0.008714</td>\n",
              "      <td>-0.242234</td>\n",
              "      <td>-0.219153</td>\n",
              "      <td>0.232538</td>\n",
              "      <td>...</td>\n",
              "      <td>-0.050691</td>\n",
              "      <td>-0.023590</td>\n",
              "      <td>-0.066722</td>\n",
              "      <td>-0.025083</td>\n",
              "      <td>0.099108</td>\n",
              "      <td>0.077162</td>\n",
              "      <td>Leptodactylidae</td>\n",
              "      <td>Adenomera</td>\n",
              "      <td>AdenomeraAndre</td>\n",
              "      <td>1</td>\n",
              "    </tr>\n",
              "    <tr>\n",
              "      <th>3</th>\n",
              "      <td>1.0</td>\n",
              "      <td>0.224392</td>\n",
              "      <td>0.118985</td>\n",
              "      <td>0.329432</td>\n",
              "      <td>0.372088</td>\n",
              "      <td>0.361005</td>\n",
              "      <td>0.015501</td>\n",
              "      <td>-0.194347</td>\n",
              "      <td>-0.098181</td>\n",
              "      <td>0.270375</td>\n",
              "      <td>...</td>\n",
              "      <td>-0.136009</td>\n",
              "      <td>-0.177037</td>\n",
              "      <td>-0.130498</td>\n",
              "      <td>-0.054766</td>\n",
              "      <td>-0.018691</td>\n",
              "      <td>0.023954</td>\n",
              "      <td>Leptodactylidae</td>\n",
              "      <td>Adenomera</td>\n",
              "      <td>AdenomeraAndre</td>\n",
              "      <td>1</td>\n",
              "    </tr>\n",
              "    <tr>\n",
              "      <th>4</th>\n",
              "      <td>1.0</td>\n",
              "      <td>0.087817</td>\n",
              "      <td>-0.068345</td>\n",
              "      <td>0.306967</td>\n",
              "      <td>0.330923</td>\n",
              "      <td>0.249144</td>\n",
              "      <td>0.006884</td>\n",
              "      <td>-0.265423</td>\n",
              "      <td>-0.172700</td>\n",
              "      <td>0.266434</td>\n",
              "      <td>...</td>\n",
              "      <td>-0.048885</td>\n",
              "      <td>-0.053074</td>\n",
              "      <td>-0.088550</td>\n",
              "      <td>-0.031346</td>\n",
              "      <td>0.108610</td>\n",
              "      <td>0.079244</td>\n",
              "      <td>Leptodactylidae</td>\n",
              "      <td>Adenomera</td>\n",
              "      <td>AdenomeraAndre</td>\n",
              "      <td>1</td>\n",
              "    </tr>\n",
              "    <tr>\n",
              "      <th>...</th>\n",
              "      <td>...</td>\n",
              "      <td>...</td>\n",
              "      <td>...</td>\n",
              "      <td>...</td>\n",
              "      <td>...</td>\n",
              "      <td>...</td>\n",
              "      <td>...</td>\n",
              "      <td>...</td>\n",
              "      <td>...</td>\n",
              "      <td>...</td>\n",
              "      <td>...</td>\n",
              "      <td>...</td>\n",
              "      <td>...</td>\n",
              "      <td>...</td>\n",
              "      <td>...</td>\n",
              "      <td>...</td>\n",
              "      <td>...</td>\n",
              "      <td>...</td>\n",
              "      <td>...</td>\n",
              "      <td>...</td>\n",
              "      <td>...</td>\n",
              "    </tr>\n",
              "    <tr>\n",
              "      <th>7190</th>\n",
              "      <td>1.0</td>\n",
              "      <td>-0.554504</td>\n",
              "      <td>-0.337717</td>\n",
              "      <td>0.035533</td>\n",
              "      <td>0.034511</td>\n",
              "      <td>0.443451</td>\n",
              "      <td>0.093889</td>\n",
              "      <td>-0.100753</td>\n",
              "      <td>0.037087</td>\n",
              "      <td>0.081075</td>\n",
              "      <td>...</td>\n",
              "      <td>0.069430</td>\n",
              "      <td>0.071001</td>\n",
              "      <td>0.021591</td>\n",
              "      <td>0.052449</td>\n",
              "      <td>-0.021860</td>\n",
              "      <td>-0.079860</td>\n",
              "      <td>Hylidae</td>\n",
              "      <td>Scinax</td>\n",
              "      <td>ScinaxRuber</td>\n",
              "      <td>60</td>\n",
              "    </tr>\n",
              "    <tr>\n",
              "      <th>7191</th>\n",
              "      <td>1.0</td>\n",
              "      <td>-0.517273</td>\n",
              "      <td>-0.370574</td>\n",
              "      <td>0.030673</td>\n",
              "      <td>0.068097</td>\n",
              "      <td>0.402890</td>\n",
              "      <td>0.096628</td>\n",
              "      <td>-0.116460</td>\n",
              "      <td>0.063727</td>\n",
              "      <td>0.089034</td>\n",
              "      <td>...</td>\n",
              "      <td>0.061127</td>\n",
              "      <td>0.068978</td>\n",
              "      <td>0.017745</td>\n",
              "      <td>0.046461</td>\n",
              "      <td>-0.015418</td>\n",
              "      <td>-0.101892</td>\n",
              "      <td>Hylidae</td>\n",
              "      <td>Scinax</td>\n",
              "      <td>ScinaxRuber</td>\n",
              "      <td>60</td>\n",
              "    </tr>\n",
              "    <tr>\n",
              "      <th>7192</th>\n",
              "      <td>1.0</td>\n",
              "      <td>-0.582557</td>\n",
              "      <td>-0.343237</td>\n",
              "      <td>0.029468</td>\n",
              "      <td>0.064179</td>\n",
              "      <td>0.385596</td>\n",
              "      <td>0.114905</td>\n",
              "      <td>-0.103317</td>\n",
              "      <td>0.070370</td>\n",
              "      <td>0.081317</td>\n",
              "      <td>...</td>\n",
              "      <td>0.082474</td>\n",
              "      <td>0.077771</td>\n",
              "      <td>-0.009688</td>\n",
              "      <td>0.027834</td>\n",
              "      <td>-0.000531</td>\n",
              "      <td>-0.080425</td>\n",
              "      <td>Hylidae</td>\n",
              "      <td>Scinax</td>\n",
              "      <td>ScinaxRuber</td>\n",
              "      <td>60</td>\n",
              "    </tr>\n",
              "    <tr>\n",
              "      <th>7193</th>\n",
              "      <td>1.0</td>\n",
              "      <td>-0.519497</td>\n",
              "      <td>-0.307553</td>\n",
              "      <td>-0.004922</td>\n",
              "      <td>0.072865</td>\n",
              "      <td>0.377131</td>\n",
              "      <td>0.086866</td>\n",
              "      <td>-0.115799</td>\n",
              "      <td>0.056979</td>\n",
              "      <td>0.089316</td>\n",
              "      <td>...</td>\n",
              "      <td>0.051796</td>\n",
              "      <td>0.069073</td>\n",
              "      <td>0.017963</td>\n",
              "      <td>0.041803</td>\n",
              "      <td>-0.027911</td>\n",
              "      <td>-0.096895</td>\n",
              "      <td>Hylidae</td>\n",
              "      <td>Scinax</td>\n",
              "      <td>ScinaxRuber</td>\n",
              "      <td>60</td>\n",
              "    </tr>\n",
              "    <tr>\n",
              "      <th>7194</th>\n",
              "      <td>1.0</td>\n",
              "      <td>-0.508833</td>\n",
              "      <td>-0.324106</td>\n",
              "      <td>0.062068</td>\n",
              "      <td>0.078211</td>\n",
              "      <td>0.397188</td>\n",
              "      <td>0.094596</td>\n",
              "      <td>-0.117672</td>\n",
              "      <td>0.058874</td>\n",
              "      <td>0.076180</td>\n",
              "      <td>...</td>\n",
              "      <td>0.061455</td>\n",
              "      <td>0.072983</td>\n",
              "      <td>-0.003980</td>\n",
              "      <td>0.031560</td>\n",
              "      <td>-0.029355</td>\n",
              "      <td>-0.087910</td>\n",
              "      <td>Hylidae</td>\n",
              "      <td>Scinax</td>\n",
              "      <td>ScinaxRuber</td>\n",
              "      <td>60</td>\n",
              "    </tr>\n",
              "  </tbody>\n",
              "</table>\n",
              "<p>7195 rows × 26 columns</p>\n",
              "</div>"
            ],
            "text/plain": [
              "      MFCCs_ 1  MFCCs_ 2  MFCCs_ 3  MFCCs_ 4  MFCCs_ 5  MFCCs_ 6  MFCCs_ 7  \\\n",
              "0          1.0  0.152936 -0.105586  0.200722  0.317201  0.260764  0.100945   \n",
              "1          1.0  0.171534 -0.098975  0.268425  0.338672  0.268353  0.060835   \n",
              "2          1.0  0.152317 -0.082973  0.287128  0.276014  0.189867  0.008714   \n",
              "3          1.0  0.224392  0.118985  0.329432  0.372088  0.361005  0.015501   \n",
              "4          1.0  0.087817 -0.068345  0.306967  0.330923  0.249144  0.006884   \n",
              "...        ...       ...       ...       ...       ...       ...       ...   \n",
              "7190       1.0 -0.554504 -0.337717  0.035533  0.034511  0.443451  0.093889   \n",
              "7191       1.0 -0.517273 -0.370574  0.030673  0.068097  0.402890  0.096628   \n",
              "7192       1.0 -0.582557 -0.343237  0.029468  0.064179  0.385596  0.114905   \n",
              "7193       1.0 -0.519497 -0.307553 -0.004922  0.072865  0.377131  0.086866   \n",
              "7194       1.0 -0.508833 -0.324106  0.062068  0.078211  0.397188  0.094596   \n",
              "\n",
              "      MFCCs_ 8  MFCCs_ 9  MFCCs_10  ...  MFCCs_17  MFCCs_18  MFCCs_19  \\\n",
              "0    -0.150063 -0.171128  0.124676  ... -0.108351 -0.077623 -0.009568   \n",
              "1    -0.222475 -0.207693  0.170883  ... -0.090974 -0.056510 -0.035303   \n",
              "2    -0.242234 -0.219153  0.232538  ... -0.050691 -0.023590 -0.066722   \n",
              "3    -0.194347 -0.098181  0.270375  ... -0.136009 -0.177037 -0.130498   \n",
              "4    -0.265423 -0.172700  0.266434  ... -0.048885 -0.053074 -0.088550   \n",
              "...        ...       ...       ...  ...       ...       ...       ...   \n",
              "7190 -0.100753  0.037087  0.081075  ...  0.069430  0.071001  0.021591   \n",
              "7191 -0.116460  0.063727  0.089034  ...  0.061127  0.068978  0.017745   \n",
              "7192 -0.103317  0.070370  0.081317  ...  0.082474  0.077771 -0.009688   \n",
              "7193 -0.115799  0.056979  0.089316  ...  0.051796  0.069073  0.017963   \n",
              "7194 -0.117672  0.058874  0.076180  ...  0.061455  0.072983 -0.003980   \n",
              "\n",
              "      MFCCs_20  MFCCs_21  MFCCs_22           Family      Genus  \\\n",
              "0     0.057684  0.118680  0.014038  Leptodactylidae  Adenomera   \n",
              "1     0.020140  0.082263  0.029056  Leptodactylidae  Adenomera   \n",
              "2    -0.025083  0.099108  0.077162  Leptodactylidae  Adenomera   \n",
              "3    -0.054766 -0.018691  0.023954  Leptodactylidae  Adenomera   \n",
              "4    -0.031346  0.108610  0.079244  Leptodactylidae  Adenomera   \n",
              "...        ...       ...       ...              ...        ...   \n",
              "7190  0.052449 -0.021860 -0.079860          Hylidae     Scinax   \n",
              "7191  0.046461 -0.015418 -0.101892          Hylidae     Scinax   \n",
              "7192  0.027834 -0.000531 -0.080425          Hylidae     Scinax   \n",
              "7193  0.041803 -0.027911 -0.096895          Hylidae     Scinax   \n",
              "7194  0.031560 -0.029355 -0.087910          Hylidae     Scinax   \n",
              "\n",
              "             Species  RecordID  \n",
              "0     AdenomeraAndre         1  \n",
              "1     AdenomeraAndre         1  \n",
              "2     AdenomeraAndre         1  \n",
              "3     AdenomeraAndre         1  \n",
              "4     AdenomeraAndre         1  \n",
              "...              ...       ...  \n",
              "7190     ScinaxRuber        60  \n",
              "7191     ScinaxRuber        60  \n",
              "7192     ScinaxRuber        60  \n",
              "7193     ScinaxRuber        60  \n",
              "7194     ScinaxRuber        60  \n",
              "\n",
              "[7195 rows x 26 columns]"
            ]
          },
          "execution_count": 20,
          "metadata": {},
          "output_type": "execute_result"
        }
      ],
      "source": [
        "df"
      ]
    },
    {
      "cell_type": "code",
      "execution_count": null,
      "metadata": {
        "id": "8kJSFZvIm4DK"
      },
      "outputs": [],
      "source": [
        "df = df.drop('RecordID',axis=1)"
      ]
    },
    {
      "cell_type": "code",
      "execution_count": null,
      "metadata": {
        "id": "NEaJku6gm4DK"
      },
      "outputs": [],
      "source": [
        "df_train, df_test = train_test_split(df , test_size=0.3 , random_state=65)"
      ]
    },
    {
      "cell_type": "code",
      "execution_count": null,
      "metadata": {
        "id": "BNP5WG06m4DK",
        "outputId": "1861a1b7-ed8a-41df-efab-ab73ad932a48"
      },
      "outputs": [
        {
          "data": {
            "text/html": [
              "<div>\n",
              "<style scoped>\n",
              "    .dataframe tbody tr th:only-of-type {\n",
              "        vertical-align: middle;\n",
              "    }\n",
              "\n",
              "    .dataframe tbody tr th {\n",
              "        vertical-align: top;\n",
              "    }\n",
              "\n",
              "    .dataframe thead th {\n",
              "        text-align: right;\n",
              "    }\n",
              "</style>\n",
              "<table border=\"1\" class=\"dataframe\">\n",
              "  <thead>\n",
              "    <tr style=\"text-align: right;\">\n",
              "      <th></th>\n",
              "      <th>MFCCs_ 1</th>\n",
              "      <th>MFCCs_ 2</th>\n",
              "      <th>MFCCs_ 3</th>\n",
              "      <th>MFCCs_ 4</th>\n",
              "      <th>MFCCs_ 5</th>\n",
              "      <th>MFCCs_ 6</th>\n",
              "      <th>MFCCs_ 7</th>\n",
              "      <th>MFCCs_ 8</th>\n",
              "      <th>MFCCs_ 9</th>\n",
              "      <th>MFCCs_10</th>\n",
              "      <th>...</th>\n",
              "      <th>MFCCs_16</th>\n",
              "      <th>MFCCs_17</th>\n",
              "      <th>MFCCs_18</th>\n",
              "      <th>MFCCs_19</th>\n",
              "      <th>MFCCs_20</th>\n",
              "      <th>MFCCs_21</th>\n",
              "      <th>MFCCs_22</th>\n",
              "      <th>Family</th>\n",
              "      <th>Genus</th>\n",
              "      <th>Species</th>\n",
              "    </tr>\n",
              "  </thead>\n",
              "  <tbody>\n",
              "    <tr>\n",
              "      <th>2860</th>\n",
              "      <td>1.0</td>\n",
              "      <td>0.372846</td>\n",
              "      <td>0.208395</td>\n",
              "      <td>0.523806</td>\n",
              "      <td>0.215120</td>\n",
              "      <td>0.029952</td>\n",
              "      <td>-0.132342</td>\n",
              "      <td>0.041710</td>\n",
              "      <td>0.268974</td>\n",
              "      <td>0.104378</td>\n",
              "      <td>...</td>\n",
              "      <td>-0.010830</td>\n",
              "      <td>0.154577</td>\n",
              "      <td>0.065739</td>\n",
              "      <td>-0.027702</td>\n",
              "      <td>-0.058834</td>\n",
              "      <td>0.044859</td>\n",
              "      <td>0.158082</td>\n",
              "      <td>Leptodactylidae</td>\n",
              "      <td>Adenomera</td>\n",
              "      <td>AdenomeraHylaedactylus</td>\n",
              "    </tr>\n",
              "    <tr>\n",
              "      <th>4258</th>\n",
              "      <td>1.0</td>\n",
              "      <td>0.145449</td>\n",
              "      <td>0.215023</td>\n",
              "      <td>0.688683</td>\n",
              "      <td>0.192779</td>\n",
              "      <td>0.067867</td>\n",
              "      <td>-0.044627</td>\n",
              "      <td>0.082023</td>\n",
              "      <td>0.207315</td>\n",
              "      <td>0.004216</td>\n",
              "      <td>...</td>\n",
              "      <td>0.299766</td>\n",
              "      <td>0.159250</td>\n",
              "      <td>-0.076507</td>\n",
              "      <td>-0.077418</td>\n",
              "      <td>-0.077509</td>\n",
              "      <td>0.118048</td>\n",
              "      <td>0.254046</td>\n",
              "      <td>Leptodactylidae</td>\n",
              "      <td>Adenomera</td>\n",
              "      <td>AdenomeraHylaedactylus</td>\n",
              "    </tr>\n",
              "    <tr>\n",
              "      <th>5902</th>\n",
              "      <td>1.0</td>\n",
              "      <td>0.017638</td>\n",
              "      <td>0.574601</td>\n",
              "      <td>0.366787</td>\n",
              "      <td>0.174042</td>\n",
              "      <td>0.248987</td>\n",
              "      <td>0.030421</td>\n",
              "      <td>-0.162329</td>\n",
              "      <td>0.021228</td>\n",
              "      <td>0.076210</td>\n",
              "      <td>...</td>\n",
              "      <td>0.068277</td>\n",
              "      <td>0.092015</td>\n",
              "      <td>0.004094</td>\n",
              "      <td>0.026702</td>\n",
              "      <td>0.021985</td>\n",
              "      <td>-0.062275</td>\n",
              "      <td>0.019975</td>\n",
              "      <td>Hylidae</td>\n",
              "      <td>Hypsiboas</td>\n",
              "      <td>HypsiboasCordobae</td>\n",
              "    </tr>\n",
              "    <tr>\n",
              "      <th>3687</th>\n",
              "      <td>1.0</td>\n",
              "      <td>0.455788</td>\n",
              "      <td>0.266005</td>\n",
              "      <td>0.453091</td>\n",
              "      <td>0.133281</td>\n",
              "      <td>0.039227</td>\n",
              "      <td>-0.067088</td>\n",
              "      <td>-0.020738</td>\n",
              "      <td>0.159228</td>\n",
              "      <td>0.070951</td>\n",
              "      <td>...</td>\n",
              "      <td>0.073588</td>\n",
              "      <td>0.230523</td>\n",
              "      <td>0.036632</td>\n",
              "      <td>-0.100659</td>\n",
              "      <td>-0.103979</td>\n",
              "      <td>-0.013520</td>\n",
              "      <td>0.195576</td>\n",
              "      <td>Leptodactylidae</td>\n",
              "      <td>Adenomera</td>\n",
              "      <td>AdenomeraHylaedactylus</td>\n",
              "    </tr>\n",
              "    <tr>\n",
              "      <th>6616</th>\n",
              "      <td>1.0</td>\n",
              "      <td>0.382381</td>\n",
              "      <td>0.975087</td>\n",
              "      <td>0.352274</td>\n",
              "      <td>-0.339304</td>\n",
              "      <td>0.325331</td>\n",
              "      <td>0.309973</td>\n",
              "      <td>-0.210228</td>\n",
              "      <td>-0.052096</td>\n",
              "      <td>0.214104</td>\n",
              "      <td>...</td>\n",
              "      <td>-0.053583</td>\n",
              "      <td>0.122622</td>\n",
              "      <td>0.029159</td>\n",
              "      <td>-0.025463</td>\n",
              "      <td>0.056153</td>\n",
              "      <td>0.025304</td>\n",
              "      <td>-0.002761</td>\n",
              "      <td>Leptodactylidae</td>\n",
              "      <td>Leptodactylus</td>\n",
              "      <td>LeptodactylusFuscus</td>\n",
              "    </tr>\n",
              "    <tr>\n",
              "      <th>...</th>\n",
              "      <td>...</td>\n",
              "      <td>...</td>\n",
              "      <td>...</td>\n",
              "      <td>...</td>\n",
              "      <td>...</td>\n",
              "      <td>...</td>\n",
              "      <td>...</td>\n",
              "      <td>...</td>\n",
              "      <td>...</td>\n",
              "      <td>...</td>\n",
              "      <td>...</td>\n",
              "      <td>...</td>\n",
              "      <td>...</td>\n",
              "      <td>...</td>\n",
              "      <td>...</td>\n",
              "      <td>...</td>\n",
              "      <td>...</td>\n",
              "      <td>...</td>\n",
              "      <td>...</td>\n",
              "      <td>...</td>\n",
              "      <td>...</td>\n",
              "    </tr>\n",
              "    <tr>\n",
              "      <th>3399</th>\n",
              "      <td>1.0</td>\n",
              "      <td>0.072040</td>\n",
              "      <td>0.014968</td>\n",
              "      <td>0.424995</td>\n",
              "      <td>0.186217</td>\n",
              "      <td>0.138088</td>\n",
              "      <td>-0.042511</td>\n",
              "      <td>0.043313</td>\n",
              "      <td>0.256479</td>\n",
              "      <td>0.095686</td>\n",
              "      <td>...</td>\n",
              "      <td>0.015478</td>\n",
              "      <td>0.225383</td>\n",
              "      <td>0.086081</td>\n",
              "      <td>-0.098031</td>\n",
              "      <td>-0.170851</td>\n",
              "      <td>0.011014</td>\n",
              "      <td>0.235460</td>\n",
              "      <td>Leptodactylidae</td>\n",
              "      <td>Adenomera</td>\n",
              "      <td>AdenomeraHylaedactylus</td>\n",
              "    </tr>\n",
              "    <tr>\n",
              "      <th>2773</th>\n",
              "      <td>1.0</td>\n",
              "      <td>0.435561</td>\n",
              "      <td>0.315041</td>\n",
              "      <td>0.523422</td>\n",
              "      <td>0.210531</td>\n",
              "      <td>0.092978</td>\n",
              "      <td>-0.079414</td>\n",
              "      <td>0.049131</td>\n",
              "      <td>0.316478</td>\n",
              "      <td>0.057628</td>\n",
              "      <td>...</td>\n",
              "      <td>0.100165</td>\n",
              "      <td>0.211904</td>\n",
              "      <td>0.038775</td>\n",
              "      <td>-0.109970</td>\n",
              "      <td>-0.189782</td>\n",
              "      <td>-0.014183</td>\n",
              "      <td>0.176583</td>\n",
              "      <td>Leptodactylidae</td>\n",
              "      <td>Adenomera</td>\n",
              "      <td>AdenomeraHylaedactylus</td>\n",
              "    </tr>\n",
              "    <tr>\n",
              "      <th>296</th>\n",
              "      <td>1.0</td>\n",
              "      <td>0.232867</td>\n",
              "      <td>-0.123160</td>\n",
              "      <td>0.051842</td>\n",
              "      <td>0.251865</td>\n",
              "      <td>0.213494</td>\n",
              "      <td>0.110496</td>\n",
              "      <td>0.063588</td>\n",
              "      <td>0.065908</td>\n",
              "      <td>-0.068906</td>\n",
              "      <td>...</td>\n",
              "      <td>-0.219120</td>\n",
              "      <td>-0.405825</td>\n",
              "      <td>-0.214225</td>\n",
              "      <td>0.135463</td>\n",
              "      <td>0.175999</td>\n",
              "      <td>0.039492</td>\n",
              "      <td>-0.017565</td>\n",
              "      <td>Leptodactylidae</td>\n",
              "      <td>Adenomera</td>\n",
              "      <td>AdenomeraAndre</td>\n",
              "    </tr>\n",
              "    <tr>\n",
              "      <th>575</th>\n",
              "      <td>1.0</td>\n",
              "      <td>0.548363</td>\n",
              "      <td>0.641112</td>\n",
              "      <td>0.463094</td>\n",
              "      <td>-0.177837</td>\n",
              "      <td>0.016785</td>\n",
              "      <td>0.421294</td>\n",
              "      <td>-0.028175</td>\n",
              "      <td>-0.251436</td>\n",
              "      <td>0.214758</td>\n",
              "      <td>...</td>\n",
              "      <td>-0.120899</td>\n",
              "      <td>0.144852</td>\n",
              "      <td>0.160001</td>\n",
              "      <td>-0.105940</td>\n",
              "      <td>-0.049494</td>\n",
              "      <td>0.044525</td>\n",
              "      <td>-0.057884</td>\n",
              "      <td>Leptodactylidae</td>\n",
              "      <td>Adenomera</td>\n",
              "      <td>AdenomeraAndre</td>\n",
              "    </tr>\n",
              "    <tr>\n",
              "      <th>2165</th>\n",
              "      <td>1.0</td>\n",
              "      <td>0.021454</td>\n",
              "      <td>0.052395</td>\n",
              "      <td>0.657941</td>\n",
              "      <td>0.316657</td>\n",
              "      <td>0.030847</td>\n",
              "      <td>-0.230644</td>\n",
              "      <td>-0.080967</td>\n",
              "      <td>0.262931</td>\n",
              "      <td>0.075163</td>\n",
              "      <td>...</td>\n",
              "      <td>0.141657</td>\n",
              "      <td>0.120013</td>\n",
              "      <td>-0.073545</td>\n",
              "      <td>-0.064542</td>\n",
              "      <td>-0.022730</td>\n",
              "      <td>0.139249</td>\n",
              "      <td>0.127236</td>\n",
              "      <td>Leptodactylidae</td>\n",
              "      <td>Adenomera</td>\n",
              "      <td>AdenomeraHylaedactylus</td>\n",
              "    </tr>\n",
              "  </tbody>\n",
              "</table>\n",
              "<p>5036 rows × 25 columns</p>\n",
              "</div>"
            ],
            "text/plain": [
              "      MFCCs_ 1  MFCCs_ 2  MFCCs_ 3  MFCCs_ 4  MFCCs_ 5  MFCCs_ 6  MFCCs_ 7  \\\n",
              "2860       1.0  0.372846  0.208395  0.523806  0.215120  0.029952 -0.132342   \n",
              "4258       1.0  0.145449  0.215023  0.688683  0.192779  0.067867 -0.044627   \n",
              "5902       1.0  0.017638  0.574601  0.366787  0.174042  0.248987  0.030421   \n",
              "3687       1.0  0.455788  0.266005  0.453091  0.133281  0.039227 -0.067088   \n",
              "6616       1.0  0.382381  0.975087  0.352274 -0.339304  0.325331  0.309973   \n",
              "...        ...       ...       ...       ...       ...       ...       ...   \n",
              "3399       1.0  0.072040  0.014968  0.424995  0.186217  0.138088 -0.042511   \n",
              "2773       1.0  0.435561  0.315041  0.523422  0.210531  0.092978 -0.079414   \n",
              "296        1.0  0.232867 -0.123160  0.051842  0.251865  0.213494  0.110496   \n",
              "575        1.0  0.548363  0.641112  0.463094 -0.177837  0.016785  0.421294   \n",
              "2165       1.0  0.021454  0.052395  0.657941  0.316657  0.030847 -0.230644   \n",
              "\n",
              "      MFCCs_ 8  MFCCs_ 9  MFCCs_10  ...  MFCCs_16  MFCCs_17  MFCCs_18  \\\n",
              "2860  0.041710  0.268974  0.104378  ... -0.010830  0.154577  0.065739   \n",
              "4258  0.082023  0.207315  0.004216  ...  0.299766  0.159250 -0.076507   \n",
              "5902 -0.162329  0.021228  0.076210  ...  0.068277  0.092015  0.004094   \n",
              "3687 -0.020738  0.159228  0.070951  ...  0.073588  0.230523  0.036632   \n",
              "6616 -0.210228 -0.052096  0.214104  ... -0.053583  0.122622  0.029159   \n",
              "...        ...       ...       ...  ...       ...       ...       ...   \n",
              "3399  0.043313  0.256479  0.095686  ...  0.015478  0.225383  0.086081   \n",
              "2773  0.049131  0.316478  0.057628  ...  0.100165  0.211904  0.038775   \n",
              "296   0.063588  0.065908 -0.068906  ... -0.219120 -0.405825 -0.214225   \n",
              "575  -0.028175 -0.251436  0.214758  ... -0.120899  0.144852  0.160001   \n",
              "2165 -0.080967  0.262931  0.075163  ...  0.141657  0.120013 -0.073545   \n",
              "\n",
              "      MFCCs_19  MFCCs_20  MFCCs_21  MFCCs_22           Family          Genus  \\\n",
              "2860 -0.027702 -0.058834  0.044859  0.158082  Leptodactylidae      Adenomera   \n",
              "4258 -0.077418 -0.077509  0.118048  0.254046  Leptodactylidae      Adenomera   \n",
              "5902  0.026702  0.021985 -0.062275  0.019975          Hylidae      Hypsiboas   \n",
              "3687 -0.100659 -0.103979 -0.013520  0.195576  Leptodactylidae      Adenomera   \n",
              "6616 -0.025463  0.056153  0.025304 -0.002761  Leptodactylidae  Leptodactylus   \n",
              "...        ...       ...       ...       ...              ...            ...   \n",
              "3399 -0.098031 -0.170851  0.011014  0.235460  Leptodactylidae      Adenomera   \n",
              "2773 -0.109970 -0.189782 -0.014183  0.176583  Leptodactylidae      Adenomera   \n",
              "296   0.135463  0.175999  0.039492 -0.017565  Leptodactylidae      Adenomera   \n",
              "575  -0.105940 -0.049494  0.044525 -0.057884  Leptodactylidae      Adenomera   \n",
              "2165 -0.064542 -0.022730  0.139249  0.127236  Leptodactylidae      Adenomera   \n",
              "\n",
              "                     Species  \n",
              "2860  AdenomeraHylaedactylus  \n",
              "4258  AdenomeraHylaedactylus  \n",
              "5902       HypsiboasCordobae  \n",
              "3687  AdenomeraHylaedactylus  \n",
              "6616     LeptodactylusFuscus  \n",
              "...                      ...  \n",
              "3399  AdenomeraHylaedactylus  \n",
              "2773  AdenomeraHylaedactylus  \n",
              "296           AdenomeraAndre  \n",
              "575           AdenomeraAndre  \n",
              "2165  AdenomeraHylaedactylus  \n",
              "\n",
              "[5036 rows x 25 columns]"
            ]
          },
          "execution_count": 23,
          "metadata": {},
          "output_type": "execute_result"
        }
      ],
      "source": [
        "df_train"
      ]
    },
    {
      "cell_type": "markdown",
      "metadata": {
        "id": "ibr7a3pim4DK"
      },
      "source": [
        "### (b) Train a classifier for each label"
      ]
    },
    {
      "cell_type": "markdown",
      "metadata": {
        "id": "u76u4HQBm4DL"
      },
      "source": [
        "#### (i) Research"
      ]
    },
    {
      "cell_type": "markdown",
      "metadata": {
        "id": "YQTpvmkpm4DL"
      },
      "source": [
        "Exact Match:\n",
        "\n",
        "This metric measures the accuracy of the classifier in terms of the percentage of samples where all the predicted labels exactly match the true labels. The exact match score is calculated as:\n",
        "\n",
        "Exact Match Score = (Number of correctly classified samples) / (Total number of samples)"
      ]
    },
    {
      "cell_type": "markdown",
      "metadata": {
        "id": "yNKFuTxLm4DL"
      },
      "source": [
        "Hamming Loss:\n",
        "\n",
        "The Hamming loss is the fraction of labels that are incorrectly predicted.\n",
        "\n",
        "Hamming Loss = (Number of wrongly classified labels) / (Total number of labels)"
      ]
    },
    {
      "cell_type": "markdown",
      "metadata": {
        "id": "Muwi85lTm4DL"
      },
      "source": [
        "Hamming Score:\n",
        "\n",
        "This metric measures the distance between the predicted labels and the true labels. The Hamming score is calculated as:\n",
        "\n",
        "Hamming Score = (Number of correctly classified labels) / (Total number of labels)"
      ]
    },
    {
      "cell_type": "markdown",
      "metadata": {
        "id": "meEUEoAkm4DL"
      },
      "source": [
        "#### (ii) Train a SVM for each of the labels"
      ]
    },
    {
      "cell_type": "code",
      "execution_count": null,
      "metadata": {
        "id": "9OS67wxBm4DL"
      },
      "outputs": [],
      "source": [
        "train_y_family = df_train['Family']\n",
        "train_y_genus = df_train['Genus']\n",
        "train_y_species = df_train['Species']\n",
        "train_x = df_train.drop(['Family','Genus','Species'],axis=1)\n",
        "train_y = pd.concat([train_y_family, train_y_genus, train_y_species], axis=1)\n",
        "test_y_family = df_test['Family']\n",
        "test_y_genus = df_test['Genus']\n",
        "test_y_species = df_test['Species']\n",
        "test_x = df_test.drop(['Family','Genus','Species'],axis=1)\n",
        "test_y = pd.concat([test_y_family, test_y_genus, test_y_species], axis=1)"
      ]
    },
    {
      "cell_type": "code",
      "execution_count": null,
      "metadata": {
        "id": "Bsuk74G1m4DM",
        "outputId": "04610b4a-77a0-49c6-bd83-ba7fe3c9d7de"
      },
      "outputs": [
        {
          "data": {
            "text/plain": [
              "(5036, 22)"
            ]
          },
          "execution_count": 25,
          "metadata": {},
          "output_type": "execute_result"
        }
      ],
      "source": [
        "train_x.shape"
      ]
    },
    {
      "cell_type": "code",
      "execution_count": null,
      "metadata": {
        "id": "8q78WJI8m4DM",
        "outputId": "16331756-921a-495a-e28f-01365a169e29"
      },
      "outputs": [
        {
          "data": {
            "text/plain": [
              "(2159, 22)"
            ]
          },
          "execution_count": 26,
          "metadata": {},
          "output_type": "execute_result"
        }
      ],
      "source": [
        "test_x.shape"
      ]
    },
    {
      "cell_type": "code",
      "execution_count": null,
      "metadata": {
        "id": "pIh2PdkUm4DM",
        "outputId": "16bf1a05-fd8f-424c-f3b9-fb593e28fb36"
      },
      "outputs": [
        {
          "data": {
            "text/html": [
              "<div>\n",
              "<style scoped>\n",
              "    .dataframe tbody tr th:only-of-type {\n",
              "        vertical-align: middle;\n",
              "    }\n",
              "\n",
              "    .dataframe tbody tr th {\n",
              "        vertical-align: top;\n",
              "    }\n",
              "\n",
              "    .dataframe thead th {\n",
              "        text-align: right;\n",
              "    }\n",
              "</style>\n",
              "<table border=\"1\" class=\"dataframe\">\n",
              "  <thead>\n",
              "    <tr style=\"text-align: right;\">\n",
              "      <th></th>\n",
              "      <th>Family</th>\n",
              "      <th>Genus</th>\n",
              "      <th>Species</th>\n",
              "    </tr>\n",
              "  </thead>\n",
              "  <tbody>\n",
              "    <tr>\n",
              "      <th>1704</th>\n",
              "      <td>Leptodactylidae</td>\n",
              "      <td>Adenomera</td>\n",
              "      <td>AdenomeraHylaedactylus</td>\n",
              "    </tr>\n",
              "    <tr>\n",
              "      <th>4257</th>\n",
              "      <td>Leptodactylidae</td>\n",
              "      <td>Adenomera</td>\n",
              "      <td>AdenomeraHylaedactylus</td>\n",
              "    </tr>\n",
              "    <tr>\n",
              "      <th>1291</th>\n",
              "      <td>Leptodactylidae</td>\n",
              "      <td>Adenomera</td>\n",
              "      <td>AdenomeraHylaedactylus</td>\n",
              "    </tr>\n",
              "    <tr>\n",
              "      <th>5326</th>\n",
              "      <td>Hylidae</td>\n",
              "      <td>Hypsiboas</td>\n",
              "      <td>HypsiboasCinerascens</td>\n",
              "    </tr>\n",
              "    <tr>\n",
              "      <th>6589</th>\n",
              "      <td>Hylidae</td>\n",
              "      <td>Hypsiboas</td>\n",
              "      <td>HypsiboasCordobae</td>\n",
              "    </tr>\n",
              "    <tr>\n",
              "      <th>...</th>\n",
              "      <td>...</td>\n",
              "      <td>...</td>\n",
              "      <td>...</td>\n",
              "    </tr>\n",
              "    <tr>\n",
              "      <th>3940</th>\n",
              "      <td>Leptodactylidae</td>\n",
              "      <td>Adenomera</td>\n",
              "      <td>AdenomeraHylaedactylus</td>\n",
              "    </tr>\n",
              "    <tr>\n",
              "      <th>3908</th>\n",
              "      <td>Leptodactylidae</td>\n",
              "      <td>Adenomera</td>\n",
              "      <td>AdenomeraHylaedactylus</td>\n",
              "    </tr>\n",
              "    <tr>\n",
              "      <th>995</th>\n",
              "      <td>Dendrobatidae</td>\n",
              "      <td>Ameerega</td>\n",
              "      <td>Ameeregatrivittata</td>\n",
              "    </tr>\n",
              "    <tr>\n",
              "      <th>3834</th>\n",
              "      <td>Leptodactylidae</td>\n",
              "      <td>Adenomera</td>\n",
              "      <td>AdenomeraHylaedactylus</td>\n",
              "    </tr>\n",
              "    <tr>\n",
              "      <th>6200</th>\n",
              "      <td>Hylidae</td>\n",
              "      <td>Hypsiboas</td>\n",
              "      <td>HypsiboasCordobae</td>\n",
              "    </tr>\n",
              "  </tbody>\n",
              "</table>\n",
              "<p>2159 rows × 3 columns</p>\n",
              "</div>"
            ],
            "text/plain": [
              "               Family      Genus                 Species\n",
              "1704  Leptodactylidae  Adenomera  AdenomeraHylaedactylus\n",
              "4257  Leptodactylidae  Adenomera  AdenomeraHylaedactylus\n",
              "1291  Leptodactylidae  Adenomera  AdenomeraHylaedactylus\n",
              "5326          Hylidae  Hypsiboas    HypsiboasCinerascens\n",
              "6589          Hylidae  Hypsiboas       HypsiboasCordobae\n",
              "...               ...        ...                     ...\n",
              "3940  Leptodactylidae  Adenomera  AdenomeraHylaedactylus\n",
              "3908  Leptodactylidae  Adenomera  AdenomeraHylaedactylus\n",
              "995     Dendrobatidae   Ameerega      Ameeregatrivittata\n",
              "3834  Leptodactylidae  Adenomera  AdenomeraHylaedactylus\n",
              "6200          Hylidae  Hypsiboas       HypsiboasCordobae\n",
              "\n",
              "[2159 rows x 3 columns]"
            ]
          },
          "execution_count": 27,
          "metadata": {},
          "output_type": "execute_result"
        }
      ],
      "source": [
        "test_y"
      ]
    },
    {
      "cell_type": "code",
      "execution_count": null,
      "metadata": {
        "id": "iO7mhg4mm4DM"
      },
      "outputs": [],
      "source": [
        "def HammingScore(y_predict, y_true):\n",
        "    count = 0\n",
        "    y_predict = y_predict.reset_index().iloc[:,1:]\n",
        "    y_true = y_true.reset_index().iloc[:,1:]\n",
        "    instances = y_predict.shape[0]\n",
        "    for i, row in enumerate(y_predict.iterrows()):\n",
        "        if y_predict.loc[i].tolist() == y_true.loc[i].tolist():\n",
        "            count += 1\n",
        "    return count/instances\n",
        "\n",
        "def exact_match(y_test,y_pred):\n",
        "    return np.all(y_pred.to_numpy() == y_test.to_numpy(), axis=1).mean()"
      ]
    },
    {
      "cell_type": "markdown",
      "metadata": {
        "id": "H7N0Ltubm4DN"
      },
      "source": [
        "### Gaussian SVM Kernel"
      ]
    },
    {
      "cell_type": "code",
      "execution_count": null,
      "metadata": {
        "id": "FCyZ4wvJm4DN",
        "outputId": "793b7866-e7ac-43cf-bc99-294efcfd401f"
      },
      "outputs": [
        {
          "name": "stdout",
          "output_type": "stream",
          "text": [
            "Best parameters: {'C': 100, 'gamma': 1.7}\n",
            "Best Score: 0.99185955694405\n"
          ]
        }
      ],
      "source": [
        "param_grid = {\n",
        "   'C': [10**i for i in range(-3,3)],\n",
        "   'gamma': [i/10 for i in range(1,20)],\n",
        "}\n",
        "\n",
        "grid_search = GridSearchCV(SVC(kernel='rbf'), param_grid, cv = 10)\n",
        "grid_search.fit(train_x, train_y_family)\n",
        "\n",
        "print(\"Best parameters:\", grid_search.best_params_)\n",
        "print(\"Best Score:\", grid_search.best_score_)\n",
        "y_pred_family = grid_search.predict(test_x)\n",
        "y_pred_family = pd.DataFrame(y_pred_family)"
      ]
    },
    {
      "cell_type": "code",
      "execution_count": null,
      "metadata": {
        "id": "gE4yQP3Tm4DN",
        "outputId": "16769037-b0ea-4260-f850-90a7956ab2bc"
      },
      "outputs": [
        {
          "name": "stdout",
          "output_type": "stream",
          "text": [
            "Best parameters: {'C': 100, 'gamma': 1.9}\n",
            "Best Score: 0.9916611442456373\n"
          ]
        }
      ],
      "source": [
        "param_grid = {\n",
        "    'C': [10**i for i in range(-3,3)],\n",
        "    'gamma': [i/10 for i in range(1,20)],\n",
        "}\n",
        "\n",
        "grid_search = GridSearchCV(SVC(kernel='rbf'), param_grid, cv = 10)\n",
        "grid_search.fit(train_x, train_y_genus)\n",
        "\n",
        "print(\"Best parameters:\", grid_search.best_params_)\n",
        "print(\"Best Score:\", grid_search.best_score_)\n",
        "y_pred_genus = grid_search.predict(test_x)\n",
        "y_pred_genus = pd.DataFrame(y_pred_genus)"
      ]
    },
    {
      "cell_type": "code",
      "execution_count": null,
      "metadata": {
        "id": "RJv2dsP7m4DN",
        "outputId": "45f4b456-b214-4a12-99da-32383fe66c89"
      },
      "outputs": [
        {
          "name": "stdout",
          "output_type": "stream",
          "text": [
            "Best parameters: {'C': 10, 'gamma': 1.4}\n",
            "Best Score: 0.9914631260058695\n"
          ]
        }
      ],
      "source": [
        "param_grid = {\n",
        "    'C': [10**i for i in range(-3,3)],\n",
        "    'gamma': [i/10 for i in range(1,20)],\n",
        "}\n",
        "\n",
        "grid_search = GridSearchCV(SVC(kernel='rbf'), param_grid, cv = 10)\n",
        "grid_search.fit(train_x, train_y_species)\n",
        "\n",
        "print(\"Best parameters:\", grid_search.best_params_)\n",
        "print(\"Best Score:\", grid_search.best_score_)\n",
        "y_pred_species = grid_search.predict(test_x)\n",
        "y_pred_species = pd.DataFrame(y_pred_species)"
      ]
    },
    {
      "cell_type": "code",
      "execution_count": null,
      "metadata": {
        "id": "ZRz_1TLAm4DO",
        "outputId": "b89b8262-c525-4107-f27c-6aa476132bca"
      },
      "outputs": [
        {
          "name": "stdout",
          "output_type": "stream",
          "text": [
            "Hamming Score: 0.983788791106994\n",
            "Hamming Loss: 0.01621120889300598\n"
          ]
        }
      ],
      "source": [
        "y_pred = pd.concat([y_pred_family, y_pred_genus, y_pred_species], axis = 1)\n",
        "hamm_score = HammingScore(y_pred, test_y)\n",
        "print(\"Hamming Score:\", hamm_score)\n",
        "print(\"Hamming Loss:\", 1-hamm_score)"
      ]
    },
    {
      "cell_type": "code",
      "execution_count": null,
      "metadata": {
        "id": "TiNX-5-6m4DO",
        "outputId": "64aa7fa4-af00-4c9f-9cc8-b57e0d367b40"
      },
      "outputs": [
        {
          "name": "stdout",
          "output_type": "stream",
          "text": [
            "Exact Match: 0.983788791106994\n"
          ]
        }
      ],
      "source": [
        "em = exact_match(test_y , y_pred)\n",
        "print(\"Exact Match:\", em)"
      ]
    },
    {
      "cell_type": "markdown",
      "metadata": {
        "id": "etj4ut49m4DO"
      },
      "source": [
        "#### (iii) Repeat 1(b)ii with L1-penalized SVMs"
      ]
    },
    {
      "cell_type": "code",
      "execution_count": null,
      "metadata": {
        "id": "TM_h4HX_m4DO"
      },
      "outputs": [],
      "source": [
        "scaler = StandardScaler()\n",
        "train_x_scaled = scaler.fit_transform(train_x)\n",
        "test_x_scaled = scaler.transform(test_x)"
      ]
    },
    {
      "cell_type": "code",
      "execution_count": null,
      "metadata": {
        "id": "cJC0bQY6m4DP",
        "outputId": "4cb4f944-7ff7-4f3a-f404-9d5ce594978d"
      },
      "outputs": [
        {
          "name": "stdout",
          "output_type": "stream",
          "text": [
            "Best parameters: {'C': 1}\n",
            "Best score: 0.9370586007762947\n"
          ]
        }
      ],
      "source": [
        "param_grid = [{'C': [10**i for i in range(-3,3)]}]\n",
        "grid_search = GridSearchCV(LinearSVC(penalty = 'l1', loss = 'squared_hinge', dual = False, max_iter = 1000000),\n",
        "                              param_grid, scoring = 'accuracy', cv = 10)\n",
        "grid_search.fit(train_x_scaled, train_y_family)\n",
        "print('Best parameters:', grid_search.best_params_)\n",
        "print('Best score:', grid_search.best_score_)\n",
        "y_pred_family = grid_search.predict(test_x_scaled)\n",
        "y_pred_family = pd.DataFrame(y_pred_family)"
      ]
    },
    {
      "cell_type": "code",
      "execution_count": null,
      "metadata": {
        "id": "9Qn_2xg5m4DP",
        "outputId": "68a68503-1138-4fdb-9fe1-5d4f4e6c6e83"
      },
      "outputs": [
        {
          "name": "stdout",
          "output_type": "stream",
          "text": [
            "Best parameters: {'C': 10}\n",
            "Best score: 0.9543315503802582\n"
          ]
        }
      ],
      "source": [
        "param_grid = [{'C': [10**i for i in range(-3,3)]}]\n",
        "grid_search = GridSearchCV(LinearSVC(penalty = 'l1', loss = 'squared_hinge', dual = False, max_iter = 1000000),\n",
        "                              param_grid, scoring = 'accuracy', cv = 10)\n",
        "grid_search.fit(train_x_scaled, train_y_genus)\n",
        "print('Best parameters:', grid_search.best_params_)\n",
        "print('Best score:', grid_search.best_score_)\n",
        "y_pred_genus = grid_search.predict(test_x_scaled)\n",
        "y_pred_genus = pd.DataFrame(y_pred_genus)"
      ]
    },
    {
      "cell_type": "code",
      "execution_count": null,
      "metadata": {
        "id": "7W3i7LC4m4DP",
        "outputId": "f5428c22-897f-427c-8c6c-afcfd242b3ec"
      },
      "outputs": [
        {
          "name": "stdout",
          "output_type": "stream",
          "text": [
            "Best parameters: {'C': 10}\n",
            "Best score: 0.9594930417495029\n"
          ]
        }
      ],
      "source": [
        "param_grid = [{'C': [10**i for i in range(-3,3)]}]\n",
        "grid_search = GridSearchCV(LinearSVC(penalty = 'l1', loss = 'squared_hinge', dual = False, max_iter = 1000000),\n",
        "                              param_grid, scoring = 'accuracy', cv = 10)\n",
        "grid_search.fit(train_x_scaled, train_y_species)\n",
        "print('Best parameters:', grid_search.best_params_)\n",
        "print('Best score:', grid_search.best_score_)\n",
        "y_pred_species = grid_search.predict(test_x_scaled)\n",
        "y_pred_species = pd.DataFrame(y_pred_species)"
      ]
    },
    {
      "cell_type": "code",
      "execution_count": null,
      "metadata": {
        "id": "sf7w2qsGm4DP",
        "outputId": "341e3a6c-1263-4eac-c00e-7a9602cf8500"
      },
      "outputs": [
        {
          "name": "stdout",
          "output_type": "stream",
          "text": [
            "Hamming Score: 0.9212598425196851\n",
            "Hamming Loss: 0.07874015748031493\n"
          ]
        }
      ],
      "source": [
        "y_pred = pd.concat([y_pred_family, y_pred_genus, y_pred_species], axis = 1)\n",
        "hamm_score = HammingScore(y_pred, test_y)\n",
        "print(\"Hamming Score:\", hamm_score)\n",
        "print(\"Hamming Loss:\", 1-hamm_score)"
      ]
    },
    {
      "cell_type": "code",
      "execution_count": null,
      "metadata": {
        "id": "XyDy124Tm4DP",
        "outputId": "f8f87269-f22c-4676-e9a8-69550cf7a128"
      },
      "outputs": [
        {
          "name": "stdout",
          "output_type": "stream",
          "text": [
            "Exact Match: 0.9212598425196851\n"
          ]
        }
      ],
      "source": [
        "em = exact_match(test_y , y_pred)\n",
        "print(\"Exact Match:\", em)"
      ]
    },
    {
      "cell_type": "markdown",
      "metadata": {
        "id": "82-jISgim4DQ"
      },
      "source": [
        "#### (iv) Repeat 1(b)iii by using SMOTE or any other method for imbalance"
      ]
    },
    {
      "cell_type": "code",
      "execution_count": null,
      "metadata": {
        "id": "i26xeTHEm4DQ",
        "outputId": "d0954aad-6b16-4884-8efd-d007109b1417"
      },
      "outputs": [
        {
          "name": "stdout",
          "output_type": "stream",
          "text": [
            "Best parameters: {'linear__C': 10}\n",
            "Best score: 0.9215725488339801\n"
          ]
        }
      ],
      "source": [
        "linear_svc = LinearSVC(penalty = 'l1', loss = 'squared_hinge', dual = False, max_iter = 1000000)\n",
        "pipe = imbpipe([\n",
        "    ('smote',SMOTE()),\n",
        "    ('scale', StandardScaler()),\n",
        "    ('linear', linear_svc)])\n",
        "params_grid = [{'linear__C':[10**i for i in range(-3,3)]}]\n",
        "stratified_cv = StratifiedKFold(n_splits = 10)\n",
        "grid_search = GridSearchCV(pipe, param_grid = params_grid, cv = stratified_cv)\n",
        "grid_search.fit(train_x_scaled, train_y_family)\n",
        "print('Best parameters:', grid_search.best_params_)\n",
        "print('Best score:', grid_search.best_score_)\n",
        "y_pred_family = grid_search.predict(test_x_scaled)\n",
        "y_pred_family = pd.DataFrame(y_pred_family)"
      ]
    },
    {
      "cell_type": "code",
      "execution_count": null,
      "metadata": {
        "id": "_ImN9nWam4DQ",
        "outputId": "6d68d79b-aac2-4689-e443-c50cebdd18ea"
      },
      "outputs": [
        {
          "name": "stdout",
          "output_type": "stream",
          "text": [
            "Best parameters: {'linear__C': 1}\n",
            "Best score: 0.9171952412509073\n"
          ]
        }
      ],
      "source": [
        "linear_svc = LinearSVC(penalty = 'l1', loss = 'squared_hinge', dual = False, max_iter = 1000000)\n",
        "pipe = imbpipe([\n",
        "    ('smote',SMOTE()),\n",
        "    ('scale', StandardScaler()),\n",
        "    ('linear', linear_svc)])\n",
        "params_grid = [{'linear__C':[10**i for i in range(-3,3)]}]\n",
        "stratified_cv = StratifiedKFold(n_splits = 10)\n",
        "grid_search = GridSearchCV(pipe, param_grid = params_grid, cv = stratified_cv)\n",
        "grid_search.fit(train_x_scaled, train_y_genus)\n",
        "print('Best parameters:', grid_search.best_params_)\n",
        "print('Best score:', grid_search.best_score_)\n",
        "y_pred_genus = grid_search.predict(test_x_scaled)\n",
        "y_pred_genus = pd.DataFrame(y_pred_genus)"
      ]
    },
    {
      "cell_type": "code",
      "execution_count": null,
      "metadata": {
        "id": "wNiIKHtOm4DQ",
        "outputId": "dbb01998-1cc5-46de-9a2c-7b2da2947e95"
      },
      "outputs": [
        {
          "name": "stdout",
          "output_type": "stream",
          "text": [
            "Best parameters: {'linear__C': 0.01}\n",
            "Best score: 0.9543299725456784\n"
          ]
        }
      ],
      "source": [
        "linear_svc = LinearSVC(penalty = 'l1', loss = 'squared_hinge', dual = False, max_iter = 1000000)\n",
        "pipe = imbpipe([\n",
        "    ('smote',SMOTE()),\n",
        "    ('scale', StandardScaler()),\n",
        "    ('linear', linear_svc)])\n",
        "params_grid = [{'linear__C':[10**i for i in range(-3,3)]}]\n",
        "stratified_cv = StratifiedKFold(n_splits = 10)\n",
        "grid_search = GridSearchCV(pipe, param_grid = params_grid, cv = stratified_cv)\n",
        "grid_search.fit(train_x_scaled, train_y_species)\n",
        "print('Best parameters:', grid_search.best_params_)\n",
        "print('Best score:', grid_search.best_score_)\n",
        "y_pred_species = grid_search.predict(test_x_scaled)\n",
        "y_pred_species = pd.DataFrame(y_pred_species)"
      ]
    },
    {
      "cell_type": "code",
      "execution_count": null,
      "metadata": {
        "id": "9ld5hZE7m4DQ",
        "outputId": "c8f4f14d-745e-4399-c27c-efa47365dd51"
      },
      "outputs": [
        {
          "name": "stdout",
          "output_type": "stream",
          "text": [
            "Hamming Score: 0.8545622973598889\n",
            "Hamming Loss: 0.14543770264011113\n"
          ]
        }
      ],
      "source": [
        "y_pred = pd.concat([y_pred_family, y_pred_genus, y_pred_species], axis = 1)\n",
        "hamm_score = HammingScore(y_pred, test_y)\n",
        "print(\"Hamming Score:\", hamm_score)\n",
        "print(\"Hamming Loss:\", 1-hamm_score)"
      ]
    },
    {
      "cell_type": "code",
      "execution_count": null,
      "metadata": {
        "id": "NyimWrSbm4Di",
        "outputId": "896e9cf2-ebcb-4529-bfbc-27f6c0220ffa"
      },
      "outputs": [
        {
          "name": "stdout",
          "output_type": "stream",
          "text": [
            "Exact Match: 0.8545622973598889\n"
          ]
        }
      ],
      "source": [
        "em = exact_match(test_y , y_pred)\n",
        "print(\"Exact Match:\", em)"
      ]
    },
    {
      "cell_type": "markdown",
      "metadata": {
        "id": "Ycwze6acm4Dj"
      },
      "source": [
        "As we can see based on Hamming Scores, the Gaussian Kernel works better than the L1 penalized SVM which works better than L1 penalized SVM with SMOTE."
      ]
    },
    {
      "cell_type": "markdown",
      "metadata": {
        "id": "AuXGECqtm4Dj"
      },
      "source": [
        "## 2. K-Means Clustering on a Multi-Class and Multi-Label Data Set"
      ]
    },
    {
      "cell_type": "markdown",
      "metadata": {
        "id": "VnBuydsWm4Dj"
      },
      "source": [
        "### (a) Use k-means clustering"
      ]
    },
    {
      "cell_type": "markdown",
      "metadata": {
        "id": "N4HQCLjqm4Dj"
      },
      "source": [
        "### (b) Determine which family is the majority"
      ]
    },
    {
      "cell_type": "code",
      "execution_count": null,
      "metadata": {
        "id": "0HJvmX7Rm4Dj"
      },
      "outputs": [],
      "source": [
        "df_y_family = df['Family']\n",
        "df_y_genus = df['Genus']\n",
        "df_y_species = df['Species']\n",
        "df_x = df.drop(['Family','Genus','Species'],axis=1)"
      ]
    },
    {
      "cell_type": "code",
      "execution_count": null,
      "metadata": {
        "id": "wtIAJFzpm4Dj"
      },
      "outputs": [],
      "source": [
        "df_y = pd.concat([df_y_family, df_y_genus, df_y_species], axis = 1)"
      ]
    },
    {
      "cell_type": "code",
      "execution_count": null,
      "metadata": {
        "id": "8VNMU6jQm4Dk"
      },
      "outputs": [],
      "source": [
        "labels = ['Family', 'Genus', 'Species']"
      ]
    },
    {
      "cell_type": "code",
      "execution_count": null,
      "metadata": {
        "id": "M1oswZxZm4Dk"
      },
      "outputs": [],
      "source": [
        "def monte_hamming_loss(y_test,y_pred):\n",
        "    outputs = []\n",
        "    labels = y_pred.keys()\n",
        "    for label in labels:\n",
        "        outputs.append(hamming_loss([y_test[label]],[y_pred[label]]))\n",
        "    return np.mean(outputs)\n",
        "\n",
        "def monte_hamming_distance(y_test,y_pred):\n",
        "    outputs = []\n",
        "    labels = y_pred.keys()\n",
        "    for label in labels:\n",
        "        outputs.append(hamming_loss([y_test[label]],[y_pred[label]]))\n",
        "    return np.sum(outputs)"
      ]
    },
    {
      "cell_type": "code",
      "execution_count": null,
      "metadata": {
        "id": "RfyMY27wm4Dk"
      },
      "outputs": [],
      "source": [
        "def opt_k():\n",
        "    range_n_clusters = range(2,5)\n",
        "    best_K,best_score = 1,0\n",
        "    for n_clusters in range_n_clusters:\n",
        "        clusterer = KMeans(n_clusters=n_clusters,init='random')\n",
        "        preds = clusterer.fit_predict(df_x)\n",
        "        centers = clusterer.cluster_centers_\n",
        "\n",
        "        score = silhouette_score(df_x, preds)\n",
        "        if score > best_score:\n",
        "            best_score = score\n",
        "            best_K = n_clusters\n",
        "    return best_K, best_score"
      ]
    },
    {
      "cell_type": "code",
      "execution_count": null,
      "metadata": {
        "id": "lpAO_DY-m4Dk",
        "outputId": "72af48bf-602f-4e73-eb46-4a66524311f3"
      },
      "outputs": [
        {
          "name": "stdout",
          "output_type": "stream",
          "text": [
            "Iteration 0 :\n",
            "Best k: 4 Silhouette Score: 0.37863353074850936\n",
            "Majority labels: {0: {'Family': 'Dendrobatidae', 'Genus': 'Ameerega', 'Species': 'Ameeregatrivittata'}, 1: {'Family': 'Leptodactylidae', 'Genus': 'Adenomera', 'Species': 'AdenomeraHylaedactylus'}, 2: {'Family': 'Hylidae', 'Genus': 'Hypsiboas', 'Species': 'HypsiboasCordobae'}, 3: {'Family': 'Hylidae', 'Genus': 'Hypsiboas', 'Species': 'HypsiboasCinerascens'}}\n",
            "Average hamming loss: 0.22242297892054666\n",
            "Average hamming distance: 0.66726893676164\n",
            "Average hamming score: 0.7775770210794534\n",
            "-----------------------------------------------\n",
            "Iteration 1 :\n",
            "Best k: 4 Silhouette Score: 0.3787509343305295\n",
            "Majority labels: {0: {'Family': 'Dendrobatidae', 'Genus': 'Ameerega', 'Species': 'Ameeregatrivittata'}, 1: {'Family': 'Leptodactylidae', 'Genus': 'Adenomera', 'Species': 'AdenomeraHylaedactylus'}, 2: {'Family': 'Hylidae', 'Genus': 'Hypsiboas', 'Species': 'HypsiboasCinerascens'}, 3: {'Family': 'Hylidae', 'Genus': 'Hypsiboas', 'Species': 'HypsiboasCordobae'}}\n",
            "Average hamming loss: 0.22242297892054666\n",
            "Average hamming distance: 0.66726893676164\n",
            "Average hamming score: 0.7775770210794534\n",
            "-----------------------------------------------\n",
            "Iteration 2 :\n",
            "Best k: 4 Silhouette Score: 0.37863353074850936\n",
            "Majority labels: {0: {'Family': 'Hylidae', 'Genus': 'Hypsiboas', 'Species': 'HypsiboasCinerascens'}, 1: {'Family': 'Leptodactylidae', 'Genus': 'Adenomera', 'Species': 'AdenomeraHylaedactylus'}, 2: {'Family': 'Hylidae', 'Genus': 'Hypsiboas', 'Species': 'HypsiboasCordobae'}, 3: {'Family': 'Dendrobatidae', 'Genus': 'Ameerega', 'Species': 'Ameeregatrivittata'}}\n",
            "Average hamming loss: 0.22242297892054666\n",
            "Average hamming distance: 0.66726893676164\n",
            "Average hamming score: 0.7775770210794534\n",
            "-----------------------------------------------\n",
            "Iteration 3 :\n",
            "Best k: 4 Silhouette Score: 0.3787509343305295\n",
            "Majority labels: {0: {'Family': 'Leptodactylidae', 'Genus': 'Adenomera', 'Species': 'AdenomeraHylaedactylus'}, 1: {'Family': 'Hylidae', 'Genus': 'Hypsiboas', 'Species': 'HypsiboasCinerascens'}, 2: {'Family': 'Dendrobatidae', 'Genus': 'Ameerega', 'Species': 'Ameeregatrivittata'}, 3: {'Family': 'Hylidae', 'Genus': 'Hypsiboas', 'Species': 'HypsiboasCordobae'}}\n",
            "Average hamming loss: 0.22242297892054666\n",
            "Average hamming distance: 0.66726893676164\n",
            "Average hamming score: 0.7775770210794534\n",
            "-----------------------------------------------\n",
            "Iteration 4 :\n",
            "Best k: 4 Silhouette Score: 0.37888514720477384\n",
            "Majority labels: {0: {'Family': 'Leptodactylidae', 'Genus': 'Adenomera', 'Species': 'AdenomeraHylaedactylus'}, 1: {'Family': 'Hylidae', 'Genus': 'Hypsiboas', 'Species': 'HypsiboasCinerascens'}, 2: {'Family': 'Dendrobatidae', 'Genus': 'Ameerega', 'Species': 'Ameeregatrivittata'}, 3: {'Family': 'Hylidae', 'Genus': 'Hypsiboas', 'Species': 'HypsiboasCordobae'}}\n",
            "Average hamming loss: 0.22242297892054666\n",
            "Average hamming distance: 0.66726893676164\n",
            "Average hamming score: 0.7775770210794534\n",
            "-----------------------------------------------\n",
            "Iteration 5 :\n",
            "Best k: 4 Silhouette Score: 0.3787509343305295\n",
            "Majority labels: {0: {'Family': 'Leptodactylidae', 'Genus': 'Adenomera', 'Species': 'AdenomeraHylaedactylus'}, 1: {'Family': 'Hylidae', 'Genus': 'Hypsiboas', 'Species': 'HypsiboasCinerascens'}, 2: {'Family': 'Dendrobatidae', 'Genus': 'Ameerega', 'Species': 'Ameeregatrivittata'}, 3: {'Family': 'Hylidae', 'Genus': 'Hypsiboas', 'Species': 'HypsiboasCordobae'}}\n",
            "Average hamming loss: 0.22242297892054666\n",
            "Average hamming distance: 0.66726893676164\n",
            "Average hamming score: 0.7775770210794534\n",
            "-----------------------------------------------\n",
            "Iteration 6 :\n",
            "Best k: 4 Silhouette Score: 0.3787509343305295\n",
            "Majority labels: {0: {'Family': 'Dendrobatidae', 'Genus': 'Ameerega', 'Species': 'Ameeregatrivittata'}, 1: {'Family': 'Leptodactylidae', 'Genus': 'Adenomera', 'Species': 'AdenomeraHylaedactylus'}, 2: {'Family': 'Hylidae', 'Genus': 'Hypsiboas', 'Species': 'HypsiboasCordobae'}, 3: {'Family': 'Hylidae', 'Genus': 'Hypsiboas', 'Species': 'HypsiboasCinerascens'}}\n",
            "Average hamming loss: 0.22242297892054666\n",
            "Average hamming distance: 0.66726893676164\n",
            "Average hamming score: 0.7775770210794534\n",
            "-----------------------------------------------\n",
            "Iteration 7 :\n",
            "Best k: 4 Silhouette Score: 0.37867825251598397\n",
            "Majority labels: {0: {'Family': 'Hylidae', 'Genus': 'Hypsiboas', 'Species': 'HypsiboasCinerascens'}, 1: {'Family': 'Leptodactylidae', 'Genus': 'Adenomera', 'Species': 'AdenomeraHylaedactylus'}, 2: {'Family': 'Dendrobatidae', 'Genus': 'Ameerega', 'Species': 'Ameeregatrivittata'}, 3: {'Family': 'Hylidae', 'Genus': 'Hypsiboas', 'Species': 'HypsiboasCordobae'}}\n",
            "Average hamming loss: 0.22242297892054666\n",
            "Average hamming distance: 0.66726893676164\n",
            "Average hamming score: 0.7775770210794534\n",
            "-----------------------------------------------\n",
            "Iteration 8 :\n",
            "Best k: 4 Silhouette Score: 0.3787509343305295\n",
            "Majority labels: {0: {'Family': 'Hylidae', 'Genus': 'Hypsiboas', 'Species': 'HypsiboasCordobae'}, 1: {'Family': 'Leptodactylidae', 'Genus': 'Adenomera', 'Species': 'AdenomeraHylaedactylus'}, 2: {'Family': 'Hylidae', 'Genus': 'Hypsiboas', 'Species': 'HypsiboasCinerascens'}, 3: {'Family': 'Dendrobatidae', 'Genus': 'Ameerega', 'Species': 'Ameeregatrivittata'}}\n",
            "Average hamming loss: 0.22242297892054666\n",
            "Average hamming distance: 0.66726893676164\n",
            "Average hamming score: 0.7775770210794534\n",
            "-----------------------------------------------\n",
            "Iteration 9 :\n",
            "Best k: 4 Silhouette Score: 0.3786002696319828\n",
            "Majority labels: {0: {'Family': 'Leptodactylidae', 'Genus': 'Adenomera', 'Species': 'AdenomeraHylaedactylus'}, 1: {'Family': 'Hylidae', 'Genus': 'Hypsiboas', 'Species': 'HypsiboasCordobae'}, 2: {'Family': 'Hylidae', 'Genus': 'Hypsiboas', 'Species': 'HypsiboasCinerascens'}, 3: {'Family': 'Dendrobatidae', 'Genus': 'Ameerega', 'Species': 'Ameeregatrivittata'}}\n",
            "Average hamming loss: 0.22233032198285846\n",
            "Average hamming distance: 0.6669909659485754\n",
            "Average hamming score: 0.7776696780171415\n",
            "-----------------------------------------------\n",
            "Iteration 10 :\n",
            "Best k: 4 Silhouette Score: 0.37863353074850936\n",
            "Majority labels: {0: {'Family': 'Hylidae', 'Genus': 'Hypsiboas', 'Species': 'HypsiboasCinerascens'}, 1: {'Family': 'Leptodactylidae', 'Genus': 'Adenomera', 'Species': 'AdenomeraHylaedactylus'}, 2: {'Family': 'Dendrobatidae', 'Genus': 'Ameerega', 'Species': 'Ameeregatrivittata'}, 3: {'Family': 'Hylidae', 'Genus': 'Hypsiboas', 'Species': 'HypsiboasCordobae'}}\n",
            "Average hamming loss: 0.22246930738939075\n",
            "Average hamming distance: 0.6674079221681724\n",
            "Average hamming score: 0.7775306926106093\n",
            "-----------------------------------------------\n",
            "Iteration 11 :\n",
            "Best k: 4 Silhouette Score: 0.3787509343305295\n",
            "Majority labels: {0: {'Family': 'Leptodactylidae', 'Genus': 'Adenomera', 'Species': 'AdenomeraHylaedactylus'}, 1: {'Family': 'Hylidae', 'Genus': 'Hypsiboas', 'Species': 'HypsiboasCordobae'}, 2: {'Family': 'Hylidae', 'Genus': 'Hypsiboas', 'Species': 'HypsiboasCinerascens'}, 3: {'Family': 'Dendrobatidae', 'Genus': 'Ameerega', 'Species': 'Ameeregatrivittata'}}\n",
            "Average hamming loss: 0.22242297892054666\n",
            "Average hamming distance: 0.66726893676164\n",
            "Average hamming score: 0.7775770210794534\n",
            "-----------------------------------------------\n",
            "Iteration 12 :\n",
            "Best k: 4 Silhouette Score: 0.3787509343305295\n",
            "Majority labels: {0: {'Family': 'Hylidae', 'Genus': 'Hypsiboas', 'Species': 'HypsiboasCordobae'}, 1: {'Family': 'Hylidae', 'Genus': 'Hypsiboas', 'Species': 'HypsiboasCinerascens'}, 2: {'Family': 'Leptodactylidae', 'Genus': 'Adenomera', 'Species': 'AdenomeraHylaedactylus'}, 3: {'Family': 'Dendrobatidae', 'Genus': 'Ameerega', 'Species': 'Ameeregatrivittata'}}\n",
            "Average hamming loss: 0.22242297892054666\n",
            "Average hamming distance: 0.66726893676164\n",
            "Average hamming score: 0.7775770210794534\n",
            "-----------------------------------------------\n",
            "Iteration 13 :\n",
            "Best k: 4 Silhouette Score: 0.3788646212055977\n",
            "Majority labels: {0: {'Family': 'Dendrobatidae', 'Genus': 'Ameerega', 'Species': 'Ameeregatrivittata'}, 1: {'Family': 'Hylidae', 'Genus': 'Hypsiboas', 'Species': 'HypsiboasCinerascens'}, 2: {'Family': 'Leptodactylidae', 'Genus': 'Adenomera', 'Species': 'AdenomeraHylaedactylus'}, 3: {'Family': 'Hylidae', 'Genus': 'Hypsiboas', 'Species': 'HypsiboasCordobae'}}\n",
            "Average hamming loss: 0.22242297892054666\n",
            "Average hamming distance: 0.66726893676164\n",
            "Average hamming score: 0.7775770210794534\n",
            "-----------------------------------------------\n",
            "Iteration 14 :\n"
          ]
        },
        {
          "name": "stdout",
          "output_type": "stream",
          "text": [
            "Best k: 4 Silhouette Score: 0.3787509343305295\n",
            "Majority labels: {0: {'Family': 'Leptodactylidae', 'Genus': 'Adenomera', 'Species': 'AdenomeraHylaedactylus'}, 1: {'Family': 'Hylidae', 'Genus': 'Hypsiboas', 'Species': 'HypsiboasCinerascens'}, 2: {'Family': 'Hylidae', 'Genus': 'Hypsiboas', 'Species': 'HypsiboasCordobae'}, 3: {'Family': 'Dendrobatidae', 'Genus': 'Ameerega', 'Species': 'Ameeregatrivittata'}}\n",
            "Average hamming loss: 0.22242297892054666\n",
            "Average hamming distance: 0.66726893676164\n",
            "Average hamming score: 0.7775770210794534\n",
            "-----------------------------------------------\n",
            "Iteration 15 :\n",
            "Best k: 4 Silhouette Score: 0.3787509343305295\n",
            "Majority labels: {0: {'Family': 'Leptodactylidae', 'Genus': 'Adenomera', 'Species': 'AdenomeraHylaedactylus'}, 1: {'Family': 'Hylidae', 'Genus': 'Hypsiboas', 'Species': 'HypsiboasCordobae'}, 2: {'Family': 'Hylidae', 'Genus': 'Hypsiboas', 'Species': 'HypsiboasCordobae'}, 3: {'Family': 'Leptodactylidae', 'Genus': 'Adenomera', 'Species': 'AdenomeraAndre'}}\n",
            "Average hamming loss: 0.24526291406069028\n",
            "Average hamming distance: 0.7357887421820709\n",
            "Average hamming score: 0.7547370859393097\n",
            "-----------------------------------------------\n",
            "Iteration 16 :\n",
            "Best k: 4 Silhouette Score: 0.3787509343305295\n",
            "Majority labels: {0: {'Family': 'Leptodactylidae', 'Genus': 'Adenomera', 'Species': 'AdenomeraHylaedactylus'}, 1: {'Family': 'Dendrobatidae', 'Genus': 'Ameerega', 'Species': 'Ameeregatrivittata'}, 2: {'Family': 'Hylidae', 'Genus': 'Hypsiboas', 'Species': 'HypsiboasCordobae'}, 3: {'Family': 'Hylidae', 'Genus': 'Hypsiboas', 'Species': 'HypsiboasCinerascens'}}\n",
            "Average hamming loss: 0.22242297892054666\n",
            "Average hamming distance: 0.66726893676164\n",
            "Average hamming score: 0.7775770210794534\n",
            "-----------------------------------------------\n",
            "Iteration 17 :\n",
            "Best k: 4 Silhouette Score: 0.3787509343305295\n",
            "Majority labels: {0: {'Family': 'Leptodactylidae', 'Genus': 'Adenomera', 'Species': 'AdenomeraHylaedactylus'}, 1: {'Family': 'Hylidae', 'Genus': 'Hypsiboas', 'Species': 'HypsiboasCordobae'}, 2: {'Family': 'Hylidae', 'Genus': 'Hypsiboas', 'Species': 'HypsiboasCordobae'}, 3: {'Family': 'Leptodactylidae', 'Genus': 'Adenomera', 'Species': 'AdenomeraAndre'}}\n",
            "Average hamming loss: 0.24512392865415797\n",
            "Average hamming distance: 0.735371785962474\n",
            "Average hamming score: 0.754876071345842\n",
            "-----------------------------------------------\n",
            "Iteration 18 :\n",
            "Best k: 4 Silhouette Score: 0.3787509343305295\n",
            "Majority labels: {0: {'Family': 'Dendrobatidae', 'Genus': 'Ameerega', 'Species': 'Ameeregatrivittata'}, 1: {'Family': 'Leptodactylidae', 'Genus': 'Adenomera', 'Species': 'AdenomeraHylaedactylus'}, 2: {'Family': 'Hylidae', 'Genus': 'Hypsiboas', 'Species': 'HypsiboasCordobae'}, 3: {'Family': 'Hylidae', 'Genus': 'Hypsiboas', 'Species': 'HypsiboasCinerascens'}}\n",
            "Average hamming loss: 0.22242297892054666\n",
            "Average hamming distance: 0.66726893676164\n",
            "Average hamming score: 0.7775770210794534\n",
            "-----------------------------------------------\n",
            "Iteration 19 :\n",
            "Best k: 4 Silhouette Score: 0.3787509343305295\n",
            "Majority labels: {0: {'Family': 'Leptodactylidae', 'Genus': 'Adenomera', 'Species': 'AdenomeraHylaedactylus'}, 1: {'Family': 'Hylidae', 'Genus': 'Hypsiboas', 'Species': 'HypsiboasCinerascens'}, 2: {'Family': 'Dendrobatidae', 'Genus': 'Ameerega', 'Species': 'Ameeregatrivittata'}, 3: {'Family': 'Hylidae', 'Genus': 'Hypsiboas', 'Species': 'HypsiboasCordobae'}}\n",
            "Average hamming loss: 0.22242297892054666\n",
            "Average hamming distance: 0.66726893676164\n",
            "Average hamming score: 0.7775770210794534\n",
            "-----------------------------------------------\n",
            "Iteration 20 :\n",
            "Best k: 4 Silhouette Score: 0.3787509343305295\n",
            "Majority labels: {0: {'Family': 'Hylidae', 'Genus': 'Hypsiboas', 'Species': 'HypsiboasCinerascens'}, 1: {'Family': 'Leptodactylidae', 'Genus': 'Adenomera', 'Species': 'AdenomeraHylaedactylus'}, 2: {'Family': 'Dendrobatidae', 'Genus': 'Ameerega', 'Species': 'Ameeregatrivittata'}, 3: {'Family': 'Hylidae', 'Genus': 'Hypsiboas', 'Species': 'HypsiboasCordobae'}}\n",
            "Average hamming loss: 0.22242297892054666\n",
            "Average hamming distance: 0.66726893676164\n",
            "Average hamming score: 0.7775770210794534\n",
            "-----------------------------------------------\n",
            "Iteration 21 :\n",
            "Best k: 4 Silhouette Score: 0.3787509343305295\n",
            "Majority labels: {0: {'Family': 'Hylidae', 'Genus': 'Hypsiboas', 'Species': 'HypsiboasCordobae'}, 1: {'Family': 'Leptodactylidae', 'Genus': 'Adenomera', 'Species': 'AdenomeraHylaedactylus'}, 2: {'Family': 'Dendrobatidae', 'Genus': 'Ameerega', 'Species': 'Ameeregatrivittata'}, 3: {'Family': 'Hylidae', 'Genus': 'Hypsiboas', 'Species': 'HypsiboasCinerascens'}}\n",
            "Average hamming loss: 0.22242297892054666\n",
            "Average hamming distance: 0.66726893676164\n",
            "Average hamming score: 0.7775770210794534\n",
            "-----------------------------------------------\n",
            "Iteration 22 :\n",
            "Best k: 4 Silhouette Score: 0.3787509343305295\n",
            "Majority labels: {0: {'Family': 'Dendrobatidae', 'Genus': 'Ameerega', 'Species': 'Ameeregatrivittata'}, 1: {'Family': 'Leptodactylidae', 'Genus': 'Adenomera', 'Species': 'AdenomeraHylaedactylus'}, 2: {'Family': 'Hylidae', 'Genus': 'Hypsiboas', 'Species': 'HypsiboasCinerascens'}, 3: {'Family': 'Hylidae', 'Genus': 'Hypsiboas', 'Species': 'HypsiboasCordobae'}}\n",
            "Average hamming loss: 0.22246930738939075\n",
            "Average hamming distance: 0.6674079221681724\n",
            "Average hamming score: 0.7775306926106093\n",
            "-----------------------------------------------\n",
            "Iteration 23 :\n",
            "Best k: 4 Silhouette Score: 0.38525558106940394\n",
            "Majority labels: {0: {'Family': 'Dendrobatidae', 'Genus': 'Ameerega', 'Species': 'Ameeregatrivittata'}, 1: {'Family': 'Leptodactylidae', 'Genus': 'Adenomera', 'Species': 'AdenomeraHylaedactylus'}, 2: {'Family': 'Hylidae', 'Genus': 'Hypsiboas', 'Species': 'HypsiboasCordobae'}, 3: {'Family': 'Hylidae', 'Genus': 'Hypsiboas', 'Species': 'HypsiboasCinerascens'}}\n",
            "Average hamming loss: 0.22242297892054666\n",
            "Average hamming distance: 0.66726893676164\n",
            "Average hamming score: 0.7775770210794534\n",
            "-----------------------------------------------\n",
            "Iteration 24 :\n",
            "Best k: 4 Silhouette Score: 0.3787509343305295\n",
            "Majority labels: {0: {'Family': 'Hylidae', 'Genus': 'Hypsiboas', 'Species': 'HypsiboasCordobae'}, 1: {'Family': 'Leptodactylidae', 'Genus': 'Adenomera', 'Species': 'AdenomeraHylaedactylus'}, 2: {'Family': 'Hylidae', 'Genus': 'Hypsiboas', 'Species': 'HypsiboasCinerascens'}, 3: {'Family': 'Dendrobatidae', 'Genus': 'Ameerega', 'Species': 'Ameeregatrivittata'}}\n",
            "Average hamming loss: 0.22242297892054666\n",
            "Average hamming distance: 0.66726893676164\n",
            "Average hamming score: 0.7775770210794534\n",
            "-----------------------------------------------\n",
            "Iteration 25 :\n",
            "Best k: 4 Silhouette Score: 0.3787509343305295\n",
            "Majority labels: {0: {'Family': 'Hylidae', 'Genus': 'Hypsiboas', 'Species': 'HypsiboasCinerascens'}, 1: {'Family': 'Leptodactylidae', 'Genus': 'Adenomera', 'Species': 'AdenomeraHylaedactylus'}, 2: {'Family': 'Dendrobatidae', 'Genus': 'Ameerega', 'Species': 'Ameeregatrivittata'}, 3: {'Family': 'Hylidae', 'Genus': 'Hypsiboas', 'Species': 'HypsiboasCordobae'}}\n",
            "Average hamming loss: 0.22242297892054666\n",
            "Average hamming distance: 0.66726893676164\n",
            "Average hamming score: 0.7775770210794534\n",
            "-----------------------------------------------\n",
            "Iteration 26 :\n",
            "Best k: 4 Silhouette Score: 0.3787509343305295\n",
            "Majority labels: {0: {'Family': 'Hylidae', 'Genus': 'Hypsiboas', 'Species': 'HypsiboasCinerascens'}, 1: {'Family': 'Leptodactylidae', 'Genus': 'Adenomera', 'Species': 'AdenomeraHylaedactylus'}, 2: {'Family': 'Dendrobatidae', 'Genus': 'Ameerega', 'Species': 'Ameeregatrivittata'}, 3: {'Family': 'Hylidae', 'Genus': 'Hypsiboas', 'Species': 'HypsiboasCordobae'}}\n",
            "Average hamming loss: 0.22242297892054666\n",
            "Average hamming distance: 0.66726893676164\n",
            "Average hamming score: 0.7775770210794534\n",
            "-----------------------------------------------\n",
            "Iteration 27 :\n",
            "Best k: 4 Silhouette Score: 0.3787509343305295\n",
            "Majority labels: {0: {'Family': 'Hylidae', 'Genus': 'Hypsiboas', 'Species': 'HypsiboasCinerascens'}, 1: {'Family': 'Dendrobatidae', 'Genus': 'Ameerega', 'Species': 'Ameeregatrivittata'}, 2: {'Family': 'Leptodactylidae', 'Genus': 'Adenomera', 'Species': 'AdenomeraHylaedactylus'}, 3: {'Family': 'Hylidae', 'Genus': 'Hypsiboas', 'Species': 'HypsiboasCordobae'}}\n",
            "Average hamming loss: 0.22246930738939075\n",
            "Average hamming distance: 0.6674079221681724\n",
            "Average hamming score: 0.7775306926106093\n",
            "-----------------------------------------------\n",
            "Iteration 28 :\n"
          ]
        },
        {
          "name": "stdout",
          "output_type": "stream",
          "text": [
            "Best k: 4 Silhouette Score: 0.3787509343305295\n",
            "Majority labels: {0: {'Family': 'Leptodactylidae', 'Genus': 'Adenomera', 'Species': 'AdenomeraHylaedactylus'}, 1: {'Family': 'Hylidae', 'Genus': 'Hypsiboas', 'Species': 'HypsiboasCordobae'}, 2: {'Family': 'Hylidae', 'Genus': 'Hypsiboas', 'Species': 'HypsiboasCinerascens'}, 3: {'Family': 'Dendrobatidae', 'Genus': 'Ameerega', 'Species': 'Ameeregatrivittata'}}\n",
            "Average hamming loss: 0.22228399351401434\n",
            "Average hamming distance: 0.6668519805420431\n",
            "Average hamming score: 0.7777160064859856\n",
            "-----------------------------------------------\n",
            "Iteration 29 :\n",
            "Best k: 4 Silhouette Score: 0.3787509343305295\n",
            "Majority labels: {0: {'Family': 'Leptodactylidae', 'Genus': 'Adenomera', 'Species': 'AdenomeraHylaedactylus'}, 1: {'Family': 'Dendrobatidae', 'Genus': 'Ameerega', 'Species': 'Ameeregatrivittata'}, 2: {'Family': 'Hylidae', 'Genus': 'Hypsiboas', 'Species': 'HypsiboasCinerascens'}, 3: {'Family': 'Hylidae', 'Genus': 'Hypsiboas', 'Species': 'HypsiboasCordobae'}}\n",
            "Average hamming loss: 0.22246930738939075\n",
            "Average hamming distance: 0.6674079221681724\n",
            "Average hamming score: 0.7775306926106093\n",
            "-----------------------------------------------\n",
            "Iteration 30 :\n",
            "Best k: 4 Silhouette Score: 0.3786455513378288\n",
            "Majority labels: {0: {'Family': 'Leptodactylidae', 'Genus': 'Adenomera', 'Species': 'AdenomeraHylaedactylus'}, 1: {'Family': 'Hylidae', 'Genus': 'Hypsiboas', 'Species': 'HypsiboasCordobae'}, 2: {'Family': 'Hylidae', 'Genus': 'Hypsiboas', 'Species': 'HypsiboasCinerascens'}, 3: {'Family': 'Dendrobatidae', 'Genus': 'Ameerega', 'Species': 'Ameeregatrivittata'}}\n",
            "Average hamming loss: 0.22242297892054666\n",
            "Average hamming distance: 0.66726893676164\n",
            "Average hamming score: 0.7775770210794534\n",
            "-----------------------------------------------\n",
            "Iteration 31 :\n",
            "Best k: 4 Silhouette Score: 0.3787509343305295\n",
            "Majority labels: {0: {'Family': 'Hylidae', 'Genus': 'Hypsiboas', 'Species': 'HypsiboasCinerascens'}, 1: {'Family': 'Leptodactylidae', 'Genus': 'Adenomera', 'Species': 'AdenomeraHylaedactylus'}, 2: {'Family': 'Hylidae', 'Genus': 'Hypsiboas', 'Species': 'HypsiboasCordobae'}, 3: {'Family': 'Dendrobatidae', 'Genus': 'Ameerega', 'Species': 'Ameeregatrivittata'}}\n",
            "Average hamming loss: 0.22242297892054666\n",
            "Average hamming distance: 0.66726893676164\n",
            "Average hamming score: 0.7775770210794534\n",
            "-----------------------------------------------\n",
            "Iteration 32 :\n",
            "Best k: 4 Silhouette Score: 0.3839612280178765\n",
            "Majority labels: {0: {'Family': 'Hylidae', 'Genus': 'Hypsiboas', 'Species': 'HypsiboasCinerascens'}, 1: {'Family': 'Leptodactylidae', 'Genus': 'Adenomera', 'Species': 'AdenomeraHylaedactylus'}, 2: {'Family': 'Dendrobatidae', 'Genus': 'Ameerega', 'Species': 'Ameeregatrivittata'}, 3: {'Family': 'Hylidae', 'Genus': 'Hypsiboas', 'Species': 'HypsiboasCordobae'}}\n",
            "Average hamming loss: 0.22242297892054666\n",
            "Average hamming distance: 0.66726893676164\n",
            "Average hamming score: 0.7775770210794534\n",
            "-----------------------------------------------\n",
            "Iteration 33 :\n",
            "Best k: 4 Silhouette Score: 0.37867825251598397\n",
            "Majority labels: {0: {'Family': 'Dendrobatidae', 'Genus': 'Ameerega', 'Species': 'Ameeregatrivittata'}, 1: {'Family': 'Leptodactylidae', 'Genus': 'Adenomera', 'Species': 'AdenomeraHylaedactylus'}, 2: {'Family': 'Hylidae', 'Genus': 'Hypsiboas', 'Species': 'HypsiboasCordobae'}, 3: {'Family': 'Hylidae', 'Genus': 'Hypsiboas', 'Species': 'HypsiboasCinerascens'}}\n",
            "Average hamming loss: 0.22242297892054666\n",
            "Average hamming distance: 0.66726893676164\n",
            "Average hamming score: 0.7775770210794534\n",
            "-----------------------------------------------\n",
            "Iteration 34 :\n",
            "Best k: 4 Silhouette Score: 0.38525558106940394\n",
            "Majority labels: {0: {'Family': 'Hylidae', 'Genus': 'Hypsiboas', 'Species': 'HypsiboasCinerascens'}, 1: {'Family': 'Dendrobatidae', 'Genus': 'Ameerega', 'Species': 'Ameeregatrivittata'}, 2: {'Family': 'Leptodactylidae', 'Genus': 'Adenomera', 'Species': 'AdenomeraHylaedactylus'}, 3: {'Family': 'Hylidae', 'Genus': 'Hypsiboas', 'Species': 'HypsiboasCordobae'}}\n",
            "Average hamming loss: 0.22242297892054666\n",
            "Average hamming distance: 0.66726893676164\n",
            "Average hamming score: 0.7775770210794534\n",
            "-----------------------------------------------\n",
            "Iteration 35 :\n",
            "Best k: 4 Silhouette Score: 0.38523395202479643\n",
            "Majority labels: {0: {'Family': 'Hylidae', 'Genus': 'Hypsiboas', 'Species': 'HypsiboasCordobae'}, 1: {'Family': 'Hylidae', 'Genus': 'Hypsiboas', 'Species': 'HypsiboasCinerascens'}, 2: {'Family': 'Leptodactylidae', 'Genus': 'Adenomera', 'Species': 'AdenomeraHylaedactylus'}, 3: {'Family': 'Dendrobatidae', 'Genus': 'Ameerega', 'Species': 'Ameeregatrivittata'}}\n",
            "Average hamming loss: 0.22242297892054666\n",
            "Average hamming distance: 0.66726893676164\n",
            "Average hamming score: 0.7775770210794534\n",
            "-----------------------------------------------\n",
            "Iteration 36 :\n",
            "Best k: 3 Silhouette Score: 0.36768245219926315\n",
            "Majority labels: {0: {'Family': 'Hylidae', 'Genus': 'Hypsiboas', 'Species': 'HypsiboasCordobae'}, 1: {'Family': 'Hylidae', 'Genus': 'Hypsiboas', 'Species': 'HypsiboasCordobae'}, 2: {'Family': 'Leptodactylidae', 'Genus': 'Adenomera', 'Species': 'AdenomeraHylaedactylus'}}\n",
            "Average hamming loss: 0.2968264998841788\n",
            "Average hamming distance: 0.8904794996525365\n",
            "Average hamming score: 0.7031735001158212\n",
            "-----------------------------------------------\n",
            "Iteration 37 :\n",
            "Best k: 4 Silhouette Score: 0.3787509343305295\n",
            "Majority labels: {0: {'Family': 'Leptodactylidae', 'Genus': 'Adenomera', 'Species': 'AdenomeraHylaedactylus'}, 1: {'Family': 'Hylidae', 'Genus': 'Hypsiboas', 'Species': 'HypsiboasCinerascens'}, 2: {'Family': 'Dendrobatidae', 'Genus': 'Ameerega', 'Species': 'Ameeregatrivittata'}, 3: {'Family': 'Hylidae', 'Genus': 'Hypsiboas', 'Species': 'HypsiboasCordobae'}}\n",
            "Average hamming loss: 0.22242297892054666\n",
            "Average hamming distance: 0.66726893676164\n",
            "Average hamming score: 0.7775770210794534\n",
            "-----------------------------------------------\n",
            "Iteration 38 :\n",
            "Best k: 4 Silhouette Score: 0.3787509343305295\n",
            "Majority labels: {0: {'Family': 'Hylidae', 'Genus': 'Hypsiboas', 'Species': 'HypsiboasCinerascens'}, 1: {'Family': 'Leptodactylidae', 'Genus': 'Adenomera', 'Species': 'AdenomeraHylaedactylus'}, 2: {'Family': 'Leptodactylidae', 'Genus': 'Adenomera', 'Species': 'AdenomeraAndre'}, 3: {'Family': 'Hylidae', 'Genus': 'Hypsiboas', 'Species': 'HypsiboasCordobae'}}\n",
            "Average hamming loss: 0.23386611072504052\n",
            "Average hamming distance: 0.7015983321751216\n",
            "Average hamming score: 0.7661338892749595\n",
            "-----------------------------------------------\n",
            "Iteration 39 :\n",
            "Best k: 4 Silhouette Score: 0.3787509343305295\n",
            "Majority labels: {0: {'Family': 'Hylidae', 'Genus': 'Hypsiboas', 'Species': 'HypsiboasCordobae'}, 1: {'Family': 'Leptodactylidae', 'Genus': 'Adenomera', 'Species': 'AdenomeraAndre'}, 2: {'Family': 'Leptodactylidae', 'Genus': 'Adenomera', 'Species': 'AdenomeraHylaedactylus'}, 3: {'Family': 'Hylidae', 'Genus': 'Hypsiboas', 'Species': 'HypsiboasCordobae'}}\n",
            "Average hamming loss: 0.24512392865415797\n",
            "Average hamming distance: 0.735371785962474\n",
            "Average hamming score: 0.754876071345842\n",
            "-----------------------------------------------\n",
            "Iteration 40 :\n",
            "Best k: 4 Silhouette Score: 0.3787509343305295\n",
            "Majority labels: {0: {'Family': 'Dendrobatidae', 'Genus': 'Ameerega', 'Species': 'Ameeregatrivittata'}, 1: {'Family': 'Leptodactylidae', 'Genus': 'Adenomera', 'Species': 'AdenomeraHylaedactylus'}, 2: {'Family': 'Hylidae', 'Genus': 'Hypsiboas', 'Species': 'HypsiboasCinerascens'}, 3: {'Family': 'Hylidae', 'Genus': 'Hypsiboas', 'Species': 'HypsiboasCordobae'}}\n",
            "Average hamming loss: 0.22242297892054666\n",
            "Average hamming distance: 0.66726893676164\n",
            "Average hamming score: 0.7775770210794534\n",
            "-----------------------------------------------\n",
            "Iteration 41 :\n",
            "Best k: 4 Silhouette Score: 0.3787509343305295\n",
            "Majority labels: {0: {'Family': 'Leptodactylidae', 'Genus': 'Adenomera', 'Species': 'AdenomeraHylaedactylus'}, 1: {'Family': 'Hylidae', 'Genus': 'Hypsiboas', 'Species': 'HypsiboasCinerascens'}, 2: {'Family': 'Dendrobatidae', 'Genus': 'Ameerega', 'Species': 'Ameeregatrivittata'}, 3: {'Family': 'Hylidae', 'Genus': 'Hypsiboas', 'Species': 'HypsiboasCordobae'}}\n",
            "Average hamming loss: 0.22242297892054666\n",
            "Average hamming distance: 0.66726893676164\n",
            "Average hamming score: 0.7775770210794534\n",
            "-----------------------------------------------\n",
            "Iteration 42 :\n"
          ]
        },
        {
          "name": "stdout",
          "output_type": "stream",
          "text": [
            "Best k: 4 Silhouette Score: 0.37863353074850936\n",
            "Majority labels: {0: {'Family': 'Dendrobatidae', 'Genus': 'Ameerega', 'Species': 'Ameeregatrivittata'}, 1: {'Family': 'Leptodactylidae', 'Genus': 'Adenomera', 'Species': 'AdenomeraHylaedactylus'}, 2: {'Family': 'Hylidae', 'Genus': 'Hypsiboas', 'Species': 'HypsiboasCinerascens'}, 3: {'Family': 'Hylidae', 'Genus': 'Hypsiboas', 'Species': 'HypsiboasCordobae'}}\n",
            "Average hamming loss: 0.22242297892054666\n",
            "Average hamming distance: 0.66726893676164\n",
            "Average hamming score: 0.7775770210794534\n",
            "-----------------------------------------------\n",
            "Iteration 43 :\n",
            "Best k: 4 Silhouette Score: 0.3787509343305295\n",
            "Majority labels: {0: {'Family': 'Leptodactylidae', 'Genus': 'Adenomera', 'Species': 'AdenomeraHylaedactylus'}, 1: {'Family': 'Dendrobatidae', 'Genus': 'Ameerega', 'Species': 'Ameeregatrivittata'}, 2: {'Family': 'Hylidae', 'Genus': 'Hypsiboas', 'Species': 'HypsiboasCordobae'}, 3: {'Family': 'Hylidae', 'Genus': 'Hypsiboas', 'Species': 'HypsiboasCinerascens'}}\n",
            "Average hamming loss: 0.22242297892054666\n",
            "Average hamming distance: 0.66726893676164\n",
            "Average hamming score: 0.7775770210794534\n",
            "-----------------------------------------------\n",
            "Iteration 44 :\n",
            "Best k: 4 Silhouette Score: 0.3788646212055977\n",
            "Majority labels: {0: {'Family': 'Leptodactylidae', 'Genus': 'Adenomera', 'Species': 'AdenomeraHylaedactylus'}, 1: {'Family': 'Hylidae', 'Genus': 'Hypsiboas', 'Species': 'HypsiboasCordobae'}, 2: {'Family': 'Dendrobatidae', 'Genus': 'Ameerega', 'Species': 'Ameeregatrivittata'}, 3: {'Family': 'Hylidae', 'Genus': 'Hypsiboas', 'Species': 'HypsiboasCinerascens'}}\n",
            "Average hamming loss: 0.22242297892054666\n",
            "Average hamming distance: 0.66726893676164\n",
            "Average hamming score: 0.7775770210794534\n",
            "-----------------------------------------------\n",
            "Iteration 45 :\n",
            "Best k: 4 Silhouette Score: 0.3779308010931296\n",
            "Majority labels: {0: {'Family': 'Hylidae', 'Genus': 'Hypsiboas', 'Species': 'HypsiboasCordobae'}, 1: {'Family': 'Leptodactylidae', 'Genus': 'Adenomera', 'Species': 'AdenomeraHylaedactylus'}, 2: {'Family': 'Hylidae', 'Genus': 'Hypsiboas', 'Species': 'HypsiboasCinerascens'}, 3: {'Family': 'Hylidae', 'Genus': 'Hypsiboas', 'Species': 'HypsiboasCordobae'}}\n",
            "Average hamming loss: 0.28005559416261294\n",
            "Average hamming distance: 0.8401667824878388\n",
            "Average hamming score: 0.7199444058373871\n",
            "-----------------------------------------------\n",
            "Iteration 46 :\n",
            "Best k: 3 Silhouette Score: 0.36768245219926315\n",
            "Majority labels: {0: {'Family': 'Leptodactylidae', 'Genus': 'Adenomera', 'Species': 'AdenomeraHylaedactylus'}, 1: {'Family': 'Hylidae', 'Genus': 'Hypsiboas', 'Species': 'HypsiboasCordobae'}, 2: {'Family': 'Hylidae', 'Genus': 'Hypsiboas', 'Species': 'HypsiboasCordobae'}}\n",
            "Average hamming loss: 0.2968264998841788\n",
            "Average hamming distance: 0.8904794996525365\n",
            "Average hamming score: 0.7031735001158212\n",
            "-----------------------------------------------\n",
            "Iteration 47 :\n",
            "Best k: 4 Silhouette Score: 0.3788646212055977\n",
            "Majority labels: {0: {'Family': 'Hylidae', 'Genus': 'Hypsiboas', 'Species': 'HypsiboasCinerascens'}, 1: {'Family': 'Leptodactylidae', 'Genus': 'Adenomera', 'Species': 'AdenomeraHylaedactylus'}, 2: {'Family': 'Dendrobatidae', 'Genus': 'Ameerega', 'Species': 'Ameeregatrivittata'}, 3: {'Family': 'Hylidae', 'Genus': 'Hypsiboas', 'Species': 'HypsiboasCordobae'}}\n",
            "Average hamming loss: 0.22246930738939075\n",
            "Average hamming distance: 0.6674079221681724\n",
            "Average hamming score: 0.7775306926106093\n",
            "-----------------------------------------------\n",
            "Iteration 48 :\n",
            "Best k: 3 Silhouette Score: 0.36768245219926315\n",
            "Majority labels: {0: {'Family': 'Leptodactylidae', 'Genus': 'Adenomera', 'Species': 'AdenomeraHylaedactylus'}, 1: {'Family': 'Hylidae', 'Genus': 'Hypsiboas', 'Species': 'HypsiboasCordobae'}, 2: {'Family': 'Hylidae', 'Genus': 'Hypsiboas', 'Species': 'HypsiboasCordobae'}}\n",
            "Average hamming loss: 0.2968264998841788\n",
            "Average hamming distance: 0.8904794996525365\n",
            "Average hamming score: 0.7031735001158212\n",
            "-----------------------------------------------\n",
            "Iteration 49 :\n",
            "Best k: 4 Silhouette Score: 0.3787509343305295\n",
            "Majority labels: {0: {'Family': 'Leptodactylidae', 'Genus': 'Adenomera', 'Species': 'AdenomeraHylaedactylus'}, 1: {'Family': 'Dendrobatidae', 'Genus': 'Ameerega', 'Species': 'Ameeregatrivittata'}, 2: {'Family': 'Hylidae', 'Genus': 'Hypsiboas', 'Species': 'HypsiboasCinerascens'}, 3: {'Family': 'Hylidae', 'Genus': 'Hypsiboas', 'Species': 'HypsiboasCordobae'}}\n",
            "Average hamming loss: 0.22242297892054666\n",
            "Average hamming distance: 0.66726893676164\n",
            "Average hamming score: 0.7775770210794534\n",
            "-----------------------------------------------\n"
          ]
        }
      ],
      "source": [
        "mcs_hamming_distances = []\n",
        "mcs_hamming_losses = []\n",
        "for i in range(0,50):\n",
        "    print('Iteration',i,':')\n",
        "    best_K,best_score = opt_k()\n",
        "    print('Best k:',best_K,'Silhouette Score:',best_score)\n",
        "    clusterer = KMeans(n_clusters=best_K)\n",
        "    preds = clusterer.fit_predict(df_x)\n",
        "    centers = clusterer.cluster_centers_\n",
        "\n",
        "    pred_labels = dict()\n",
        "    for k in range(best_K):\n",
        "        pred_labels[k] = dict()\n",
        "        for label in labels:\n",
        "            pred_labels[k][label] = dict()\n",
        "\n",
        "\n",
        "    for i in range(len(preds)):\n",
        "        k = preds[i]\n",
        "        for label in labels:\n",
        "            true_label = df.iloc[i][label]\n",
        "            pred_labels[k][label][true_label] = pred_labels[k][label].get(true_label,0)+1\n",
        "\n",
        "    majority_labels = dict()\n",
        "    for k in pred_labels:\n",
        "        majority_labels[k] = dict()\n",
        "        for label in labels:\n",
        "            majority,major_class = 0,'wrong'\n",
        "\n",
        "            for key in pred_labels[k][label]:\n",
        "                val = pred_labels[k][label][key]\n",
        "                if val > majority:\n",
        "                    majority = val\n",
        "                    major_class = key\n",
        "\n",
        "            majority_labels[k][label] = major_class\n",
        "\n",
        "\n",
        "    print('Majority labels:',majority_labels)\n",
        "    hamming_loss_arr = []\n",
        "    hamming_distance_arr = []\n",
        "    for i in range(len(df)):\n",
        "        hamming_loss_arr.append(monte_hamming_loss(df[labels].iloc[i],majority_labels[preds[i]]))\n",
        "        hamming_distance_arr.append(monte_hamming_distance(df[labels].iloc[i],majority_labels[preds[i]]))\n",
        "\n",
        "    avg_hamming_loss = np.mean(hamming_loss_arr)\n",
        "    avg_hamming_distance = np.mean(hamming_distance_arr)\n",
        "    print('Average hamming loss:',avg_hamming_loss)\n",
        "    print('Average hamming distance:',avg_hamming_distance)\n",
        "    print('Average hamming score:',1 - avg_hamming_loss)\n",
        "    print('-----------------------------------------------')\n",
        "    mcs_hamming_distances.append(avg_hamming_distance)\n",
        "    mcs_hamming_losses.append(avg_hamming_loss)"
      ]
    },
    {
      "cell_type": "code",
      "execution_count": null,
      "metadata": {
        "id": "0LHizM2hm4Dl",
        "outputId": "1aff60bb-6d5c-4c2c-c139-70482745f2ca"
      },
      "outputs": [
        {
          "data": {
            "text/plain": [
              "{0: {'Family': 'Leptodactylidae',\n",
              "  'Genus': 'Adenomera',\n",
              "  'Species': 'AdenomeraHylaedactylus'},\n",
              " 1: {'Family': 'Dendrobatidae',\n",
              "  'Genus': 'Ameerega',\n",
              "  'Species': 'Ameeregatrivittata'},\n",
              " 2: {'Family': 'Hylidae',\n",
              "  'Genus': 'Hypsiboas',\n",
              "  'Species': 'HypsiboasCinerascens'},\n",
              " 3: {'Family': 'Hylidae',\n",
              "  'Genus': 'Hypsiboas',\n",
              "  'Species': 'HypsiboasCordobae'}}"
            ]
          },
          "execution_count": 51,
          "metadata": {},
          "output_type": "execute_result"
        }
      ],
      "source": [
        "majority_labels"
      ]
    },
    {
      "cell_type": "markdown",
      "metadata": {
        "id": "u0cf5cTWm4Dl"
      },
      "source": [
        "### (c) Calculate the average Hamming distance, Hamming score, and Hamming loss"
      ]
    },
    {
      "cell_type": "code",
      "execution_count": null,
      "metadata": {
        "id": "aZ-d-p4mm4Dl",
        "outputId": "38aeec53-adce-4858-baea-194c1f4519d9"
      },
      "outputs": [
        {
          "name": "stdout",
          "output_type": "stream",
          "text": [
            "Avreage of 50 hamming distances: 0.6889006254343292\n",
            "Standard deviation of 50 hamming distances: 0.05850057238031012\n"
          ]
        }
      ],
      "source": [
        "print('Avreage of 50 hamming distances:',np.mean(mcs_hamming_distances))\n",
        "print('Standard deviation of 50 hamming distances:',np.std(mcs_hamming_distances))"
      ]
    },
    {
      "cell_type": "code",
      "execution_count": null,
      "metadata": {
        "id": "8GmvJC4Cm4Dl",
        "outputId": "df88e5fd-ed33-4026-9c90-ad7280c05ed1"
      },
      "outputs": [
        {
          "name": "stdout",
          "output_type": "stream",
          "text": [
            "Average of hamming loss of 50 iterations: 0.22963354181144313\n",
            "Standard deviation of hamming distance of 50 iterations: 0.019500190793436706\n"
          ]
        }
      ],
      "source": [
        "print('Average of hamming loss of 50 iterations:',np.mean(mcs_hamming_losses))\n",
        "print('Standard deviation of hamming distance of 50 iterations:',np.std(mcs_hamming_losses))"
      ]
    },
    {
      "cell_type": "code",
      "execution_count": null,
      "metadata": {
        "id": "9ZkxoqAKm4Dl"
      },
      "outputs": [],
      "source": [
        "mcs_hamming_scores = np.subtract(1,mcs_hamming_losses)"
      ]
    },
    {
      "cell_type": "code",
      "execution_count": null,
      "metadata": {
        "id": "0O66z521m4Dm",
        "outputId": "cc8d0e6c-a713-46ee-ad50-13527e46854b"
      },
      "outputs": [
        {
          "name": "stdout",
          "output_type": "stream",
          "text": [
            "Average of hamming score of 50 iterations: 0.770366458188557\n",
            "Standard deviation of hamming distance of 50 iterations: 0.019500190793436702\n"
          ]
        }
      ],
      "source": [
        "print('Average of hamming score of 50 iterations:',np.mean(mcs_hamming_scores))\n",
        "print('Standard deviation of hamming distance of 50 iterations:',np.std(mcs_hamming_scores))"
      ]
    },
    {
      "cell_type": "markdown",
      "metadata": {
        "id": "dlKcgT1hm4Dm"
      },
      "source": [
        "##### Citations:\n",
        "\n",
        "https://scikit-learn.org/stable/modules/generated/sklearn.cluster.KMeans.html\n",
        "\n",
        "https://scikit-learn.org/stable/modules/generated/sklearn.metrics.hamming_loss.html\n",
        "\n",
        "https://mmuratarat.github.io/2020-01-25/multilabel_classification_metrics"
      ]
    }
  ],
  "metadata": {
    "kernelspec": {
      "display_name": "Python 3 (ipykernel)",
      "language": "python",
      "name": "python3"
    },
    "language_info": {
      "codemirror_mode": {
        "name": "ipython",
        "version": 3
      },
      "file_extension": ".py",
      "mimetype": "text/x-python",
      "name": "python",
      "nbconvert_exporter": "python",
      "pygments_lexer": "ipython3",
      "version": "3.9.13"
    },
    "vscode": {
      "interpreter": {
        "hash": "3c20c2d94d2527936fe0f3a300eb11db30fed84423423838e2f93b74eb7aaebc"
      }
    },
    "colab": {
      "provenance": []
    }
  },
  "nbformat": 4,
  "nbformat_minor": 0
}